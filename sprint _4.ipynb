{
 "cells": [
  {
   "cell_type": "markdown",
   "id": "7843937f",
   "metadata": {},
   "source": [
    "# ¡Hola  !🙋🏻‍♂️\n",
    "\n",
    "Te escribe Lisandro Saez, soy revisor de código en Tripleten y tengo el agrado de revisar el proyecto que entregaste.\n",
    "\n",
    "Para simular la dinámica de un ambiente de trabajo, si veo algún error, en primer instancia solo los señalaré, dándote la oportunidad de encontrarlos y corregirlos por tu cuenta. En un trabajo real, el líder de tu equipo hará una dinámica similar. En caso de que no puedas resolver la tarea, te daré una información más precisa en la próxima revisión.\n",
    "\n",
    "Encontrarás mis comentarios más abajo - **por favor, no los muevas, no los modifiques ni los borres**.\n",
    "\n",
    "¿Cómo lo voy a hacer? Voy a leer detenidamente cada una de las implementaciones que has llevado a cabo para cumplir con lo solicitado. Verás los comentarios de esta forma:\n",
    "\n",
    "<div class=\"alert alert-block alert-success\">\n",
    "<b>Comentario del revisor</b> <a class=\"tocSkip\"></a>\n",
    "\n",
    "Si todo está perfecto.\n",
    "</div>\n",
    "\n",
    "\n",
    "<div class=\"alert alert-block alert-warning\">\n",
    "<b>Comentario del revisor</b> <a class=\"tocSkip\"></a>\n",
    "\n",
    "Si tu código está bien pero se puede mejorar o hay algún detalle que le hace falta. Se aceptan uno o dos comentarios de este tipo en el borrador, pero si hay más, deberías hacer las correcciones. Es como una tarea de prueba al solicitar un trabajo: muchos pequeños errores pueden hacer que un candidato sea rechazado.\n",
    "</div>\n",
    "\n",
    "<div class=\"alert alert-block alert-danger\">\n",
    "\n",
    "<b>Comentario del revisor</b> <a class=\"tocSkip\"></a>\n",
    "\n",
    "Si de pronto hace falta algo o existe algún problema con tu código o conclusiones.\n",
    "</div>\n",
    "\n",
    "Puedes responderme de esta forma (no te preocupes, no es obligatorio):\n",
    "\n",
    "<div class=\"alert alert-block alert-info\">\n",
    "<b>Respuesta del estudiante</b> <a class=\"tocSkip\"></a>\n",
    "Muchas gracias por tus comentarios Lisandro, seguiré echandole ganas al aprendizaje.\n",
    "    \n",
    "Hola, muchas gracias por tus comentarios y la revisión.\n",
    "</div>\n",
    "\n",
    "¡Empecemos!"
   ]
  },
  {
   "cell_type": "markdown",
   "id": "3Xg_RQfnafXz",
   "metadata": {
    "id": "3Xg_RQfnafXz"
   },
   "source": [
    "# ¡Llena ese carrito!"
   ]
  },
  {
   "cell_type": "markdown",
   "id": "mhIvmmkW414q",
   "metadata": {
    "id": "mhIvmmkW414q"
   },
   "source": [
    "# Introducción\n",
    "\n",
    "Instacart es una plataforma de entregas de comestibles donde la clientela puede registrar un pedido y hacer que se lo entreguen, similar a Uber Eats y Door Dash.\n",
    "El conjunto de datos que te hemos proporcionado tiene modificaciones del original. Redujimos el tamaño del conjunto para que tus cálculos se hicieran más rápido e introdujimos valores ausentes y duplicados. Tuvimos cuidado de conservar las distribuciones de los datos originales cuando hicimos los cambios.\n",
    "\n",
    "Debes completar tres pasos. Para cada uno de ellos, escribe una breve introducción que refleje con claridad cómo pretendes resolver cada paso, y escribe párrafos explicatorios que justifiquen tus decisiones al tiempo que avanzas en tu solución.  También escribe una conclusión que resuma tus hallazgos y elecciones.\n"
   ]
  },
  {
   "cell_type": "markdown",
   "id": "3MbyzpOQZ5Or",
   "metadata": {
    "id": "3MbyzpOQZ5Or"
   },
   "source": [
    "## Diccionario de datos\n",
    "\n",
    "Hay cinco tablas en el conjunto de datos, y tendrás que usarlas todas para hacer el preprocesamiento de datos y el análisis exploratorio de datos. A continuación se muestra un diccionario de datos que enumera las columnas de cada tabla y describe los datos que contienen.\n",
    "\n",
    "- `instacart_orders.csv`: cada fila corresponde a un pedido en la aplicación Instacart.\n",
    "    - `'order_id'`: número de ID que identifica de manera única cada pedido.\n",
    "    - `'user_id'`: número de ID que identifica de manera única la cuenta de cada cliente.\n",
    "    - `'order_number'`: el número de veces que este cliente ha hecho un pedido.\n",
    "    - `'order_dow'`: día de la semana en que se hizo el pedido (0 si es domingo).\n",
    "    - `'order_hour_of_day'`: hora del día en que se hizo el pedido.\n",
    "    - `'days_since_prior_order'`: número de días transcurridos desde que este cliente hizo su pedido anterior.\n",
    "- `products.csv`: cada fila corresponde a un producto único que pueden comprar los clientes.\n",
    "    - `'product_id'`: número ID que identifica de manera única cada producto.\n",
    "    - `'product_name'`: nombre del producto.\n",
    "    - `'aisle_id'`: número ID que identifica de manera única cada categoría de pasillo de víveres.\n",
    "    - `'department_id'`: número ID que identifica de manera única cada departamento de víveres.\n",
    "- `order_products.csv`: cada fila corresponde a un artículo pedido en un pedido.\n",
    "    - `'order_id'`: número de ID que identifica de manera única cada pedido.\n",
    "    - `'product_id'`: número ID que identifica de manera única cada producto.\n",
    "    - `'add_to_cart_order'`: el orden secuencial en el que se añadió cada artículo en el carrito.\n",
    "    - `'reordered'`: 0 si el cliente nunca ha pedido este producto antes, 1 si lo ha pedido.\n",
    "- `aisles.csv`\n",
    "    - `'aisle_id'`: número ID que identifica de manera única cada categoría de pasillo de víveres.\n",
    "    - `'aisle'`: nombre del pasillo.\n",
    "- `departments.csv`\n",
    "    - `'department_id'`: número ID que identifica de manera única cada departamento de víveres.\n",
    "    - `'department'`: nombre del departamento."
   ]
  },
  {
   "cell_type": "markdown",
   "id": "n3Ha_cNSZ8lK",
   "metadata": {
    "id": "n3Ha_cNSZ8lK"
   },
   "source": [
    "# Paso 1. Descripción de los datos\n",
    "\n",
    "Lee los archivos de datos (`/datasets/instacart_orders.csv`, `/datasets/products.csv`, `/datasets/aisles.csv`, `/datasets/departments.csv` y `/datasets/order_products.csv`) con `pd.read_csv()` usando los parámetros adecuados para leer los datos correctamente. Verifica la información para cada DataFrame creado.\n"
   ]
  },
  {
   "cell_type": "markdown",
   "id": "OmlQPLlyaAfR",
   "metadata": {
    "id": "OmlQPLlyaAfR"
   },
   "source": [
    "## Plan de solución\n",
    "\n",
    "Escribe aquí tu plan de solución para el Paso 1. Descripción de los datos."
   ]
  },
  {
   "cell_type": "code",
   "execution_count": 1,
   "id": "fbf1adab",
   "metadata": {
    "id": "fbf1adab"
   },
   "outputs": [],
   "source": [
    "# importar librerías\n",
    "import pandas as pd\n",
    "from matplotlib import pyplot as plt\n",
    "import numpy as np"
   ]
  },
  {
   "cell_type": "code",
   "execution_count": 2,
   "id": "ad36396d",
   "metadata": {
    "id": "ad36396d"
   },
   "outputs": [],
   "source": [
    "# leer conjuntos de datos en los DataFrames\n",
    "df_instacart_orders = pd.read_csv('/datasets/instacart_orders.csv',sep = \";\")\n",
    "df_products = pd.read_csv('/datasets/products.csv',sep = \";\")\n",
    "df_aisles = pd.read_csv('/datasets/aisles.csv',sep = \";\")\n",
    "df_departments = pd.read_csv('/datasets/departments.csv',sep = \";\")\n",
    "df_order_products = pd.read_csv('/datasets/order_products.csv',sep = \";\")"
   ]
  },
  {
   "cell_type": "markdown",
   "id": "0929e99f",
   "metadata": {},
   "source": [
    "\n",
    "\n",
    "<div class=\"alert alert-block alert-success\">\n",
    "<b>Comentario del revisor</b> <a class=\"tocSkip\"></a>\n",
    "\n",
    "Bien hecho! Siempre es importante que pasemos el set de datos que estamos usando a `DataFrame`!</div>\n",
    "\n",
    "\n"
   ]
  },
  {
   "cell_type": "code",
   "execution_count": 17,
   "id": "ad6a1efa",
   "metadata": {
    "id": "ad6a1efa"
   },
   "outputs": [
    {
     "name": "stdout",
     "output_type": "stream",
     "text": [
      "<class 'pandas.core.frame.DataFrame'>\n",
      "RangeIndex: 478967 entries, 0 to 478966\n",
      "Data columns (total 6 columns):\n",
      " #   Column                  Non-Null Count   Dtype  \n",
      "---  ------                  --------------   -----  \n",
      " 0   order_id                478967 non-null  int64  \n",
      " 1   user_id                 478967 non-null  int64  \n",
      " 2   order_number            478967 non-null  int64  \n",
      " 3   order_dow               478967 non-null  int64  \n",
      " 4   order_hour_of_day       478967 non-null  int64  \n",
      " 5   days_since_prior_order  450148 non-null  float64\n",
      "dtypes: float64(1), int64(5)\n",
      "memory usage: 21.9 MB\n",
      "        order_id  user_id  order_number  order_dow  order_hour_of_day  \\\n",
      "170467   2650559   148927            11          2                 13   \n",
      "406301   2356678     3652            30          1                  7   \n",
      "94164    1507483    65250             9          5                 11   \n",
      "190636   2764127   133204             4          6                 13   \n",
      "323865   1633484    12470             3          4                  9   \n",
      "\n",
      "        days_since_prior_order  \n",
      "170467                     7.0  \n",
      "406301                     7.0  \n",
      "94164                     20.0  \n",
      "190636                    28.0  \n",
      "323865                     2.0  \n",
      "\n",
      "157437\n",
      "\n",
      "478952\n",
      "\n",
      "           order_id        user_id   order_number      order_dow  \\\n",
      "count  4.789670e+05  478967.000000  478967.000000  478967.000000   \n",
      "mean   1.709947e+06  102966.537475      17.157808       2.775058   \n",
      "std    9.869480e+05   59525.328991      17.704688       2.045869   \n",
      "min    4.000000e+00       2.000000       1.000000       0.000000   \n",
      "25%    8.564685e+05   51414.000000       5.000000       1.000000   \n",
      "50%    1.709522e+06  102633.000000      11.000000       3.000000   \n",
      "75%    2.562990e+06  154419.000000      23.000000       5.000000   \n",
      "max    3.421079e+06  206209.000000     100.000000       6.000000   \n",
      "\n",
      "       order_hour_of_day  days_since_prior_order  \n",
      "count      478967.000000           450148.000000  \n",
      "mean           13.446676               11.101751  \n",
      "std             4.224986                9.189975  \n",
      "min             0.000000                0.000000  \n",
      "25%            10.000000                4.000000  \n",
      "50%            13.000000                7.000000  \n",
      "75%            16.000000               15.000000  \n",
      "max            23.000000               30.000000  \n"
     ]
    }
   ],
   "source": [
    "# mostrar información del DataFrame\n",
    "df_instacart_orders.info()\n",
    "print(df_instacart_orders.sample(5))\n",
    "print()\n",
    "print(df_instacart_orders['user_id'].nunique())\n",
    "print()\n",
    "print(df_instacart_orders['order_id'].nunique())\n",
    "print()\n",
    "print(df_instacart_orders.describe())"
   ]
  },
  {
   "cell_type": "code",
   "execution_count": 15,
   "id": "5130e05e",
   "metadata": {
    "id": "5130e05e"
   },
   "outputs": [
    {
     "name": "stdout",
     "output_type": "stream",
     "text": [
      "<class 'pandas.core.frame.DataFrame'>\n",
      "RangeIndex: 49694 entries, 0 to 49693\n",
      "Data columns (total 4 columns):\n",
      " #   Column         Non-Null Count  Dtype \n",
      "---  ------         --------------  ----- \n",
      " 0   product_id     49694 non-null  int64 \n",
      " 1   product_name   48436 non-null  object\n",
      " 2   aisle_id       49694 non-null  int64 \n",
      " 3   department_id  49694 non-null  int64 \n",
      "dtypes: int64(3), object(1)\n",
      "memory usage: 1.5+ MB\n",
      "       product_id                                       product_name  \\\n",
      "41302       41303     Almond Breeze Reduced Sugar Vanilla Almondmilk   \n",
      "37126       37127                               Pesto Genovese 6.5oz   \n",
      "42251       42252                              French Sandwich Rolls   \n",
      "15610       15611  Antacid- Plus Anti-Gas- Advanced- Multi-Sympto...   \n",
      "27482       27483                                     Borlotti Beans   \n",
      "\n",
      "       aisle_id  department_id  \n",
      "41302        84             16  \n",
      "37126       104             13  \n",
      "42251        43              3  \n",
      "15610        70             11  \n",
      "27482        59             15  \n",
      "\n",
      "49694\n",
      "\n",
      "48436\n",
      "\n",
      "         product_id      aisle_id  department_id\n",
      "count  49694.000000  49694.000000   49694.000000\n",
      "mean   24847.500000     67.773192      11.728478\n",
      "std    14345.566475     38.317265       5.850314\n",
      "min        1.000000      1.000000       1.000000\n",
      "25%    12424.250000     35.000000       7.000000\n",
      "50%    24847.500000     69.000000      13.000000\n",
      "75%    37270.750000    100.000000      17.000000\n",
      "max    49694.000000    134.000000      21.000000\n"
     ]
    }
   ],
   "source": [
    "# mostrar información del DataFrame\n",
    "df_products.info()\n",
    "print(df_products.sample(5))\n",
    "print()\n",
    "print(df_products['product_id'].nunique())\n",
    "print()\n",
    "print(df_products['product_name'].nunique())\n",
    "print()\n",
    "print(df_products.describe())"
   ]
  },
  {
   "cell_type": "code",
   "execution_count": 5,
   "id": "d8370c05",
   "metadata": {
    "id": "d8370c05"
   },
   "outputs": [
    {
     "name": "stdout",
     "output_type": "stream",
     "text": [
      "<class 'pandas.core.frame.DataFrame'>\n",
      "RangeIndex: 134 entries, 0 to 133\n",
      "Data columns (total 2 columns):\n",
      " #   Column    Non-Null Count  Dtype \n",
      "---  ------    --------------  ----- \n",
      " 0   aisle_id  134 non-null    int64 \n",
      " 1   aisle     134 non-null    object\n",
      "dtypes: int64(1), object(1)\n",
      "memory usage: 2.2+ KB\n"
     ]
    }
   ],
   "source": [
    "# mostrar información del DataFrame\n",
    "df_aisles.info()"
   ]
  },
  {
   "cell_type": "code",
   "execution_count": 14,
   "id": "59e2090f",
   "metadata": {
    "id": "59e2090f"
   },
   "outputs": [
    {
     "name": "stdout",
     "output_type": "stream",
     "text": [
      "<class 'pandas.core.frame.DataFrame'>\n",
      "RangeIndex: 21 entries, 0 to 20\n",
      "Data columns (total 2 columns):\n",
      " #   Column         Non-Null Count  Dtype \n",
      "---  ------         --------------  ----- \n",
      " 0   department_id  21 non-null     int64 \n",
      " 1   department     21 non-null     object\n",
      "dtypes: int64(1), object(1)\n",
      "memory usage: 464.0+ bytes\n",
      "None\n"
     ]
    }
   ],
   "source": [
    "# mostrar información del DataFrame\n",
    "print(df_departments.info())"
   ]
  },
  {
   "cell_type": "code",
   "execution_count": 12,
   "id": "6fc81694",
   "metadata": {
    "id": "6fc81694"
   },
   "outputs": [
    {
     "name": "stdout",
     "output_type": "stream",
     "text": [
      "<class 'pandas.core.frame.DataFrame'>\n",
      "RangeIndex: 4545007 entries, 0 to 4545006\n",
      "Data columns (total 4 columns):\n",
      " #   Column             Non-Null Count    Dtype  \n",
      "---  ------             --------------    -----  \n",
      " 0   order_id           4545007 non-null  int64  \n",
      " 1   product_id         4545007 non-null  int64  \n",
      " 2   add_to_cart_order  4544171 non-null  float64\n",
      " 3   reordered          4545007 non-null  int64  \n",
      "dtypes: float64(1), int64(3)\n",
      "memory usage: 138.7 MB\n",
      "         order_id  product_id  add_to_cart_order  reordered\n",
      "3148991   1567717       40145               35.0          1\n",
      "742642    1006251       49098               11.0          1\n",
      "2978542    978998       16826                5.0          1\n",
      "2971385    582528       14999               10.0          1\n",
      "142497     217798       25633               11.0          0\n",
      "\n",
      "450046\n",
      "\n",
      "45573\n",
      "\n",
      "           order_id    product_id  add_to_cart_order     reordered\n",
      "count  4.545007e+06  4.545007e+06       4.544171e+06  4.545007e+06\n",
      "mean   1.711166e+06  2.558084e+04       8.351669e+00  5.905025e-01\n",
      "std    9.850955e+05  1.409552e+04       7.080368e+00  4.917411e-01\n",
      "min    4.000000e+00  1.000000e+00       1.000000e+00  0.000000e+00\n",
      "25%    8.608170e+05  1.353500e+04       3.000000e+00  0.000000e+00\n",
      "50%    1.711530e+06  2.527200e+04       6.000000e+00  1.000000e+00\n",
      "75%    2.561311e+06  3.793500e+04       1.100000e+01  1.000000e+00\n",
      "max    3.421079e+06  4.969400e+04       6.400000e+01  1.000000e+00\n"
     ]
    }
   ],
   "source": [
    "# mostrar información del DataFrame\n",
    "df_order_products.info(show_counts=True)\n",
    "print(df_order_products.sample(5))\n",
    "print()\n",
    "print(df_order_products['order_id'].nunique())\n",
    "print()\n",
    "print(df_order_products['product_id'].nunique())\n",
    "print()\n",
    "print(df_order_products.describe())"
   ]
  },
  {
   "cell_type": "markdown",
   "id": "941e83b8",
   "metadata": {},
   "source": [
    "<div class=\"alert alert-block alert-warning\">\n",
    "<b>Comentario del revisor </b> <a class=\"tocSkip\"></a>\n",
    "    \n",
    "* Atención con el dataset `order`, debido a que es grande, `.info()` no está mostrando las cantidades en las variables. Para ello tienes que usar el parámetro `show_counts=True`.\n",
    "    \n",
    "* Es una buena práctica hacer un `.describe()` para entender un poco mejor de qué se trata cada tabla.\n",
    "\n",
    "</div>"
   ]
  },
  {
   "cell_type": "markdown",
   "id": "t75BD19oaR5f",
   "metadata": {
    "id": "t75BD19oaR5f"
   },
   "source": [
    "## Conclusiones\n",
    "\n",
    "Escribe aquí tus conclusiones intermedias sobre el Paso 1. Descripción de los datos.\n",
    "\n",
    "En la primer tabla \"insta_cart_orders\" solo tenemos valores ausentes en la columna de \"days_since_prior_order\" que corresponde a la información del número de días transcurridos desde que este cliente hizo su pedido anterior, por lo que revisaremos si en realidad son valores ausentes y si es posible eliminar esta columna, además de que esta tiene formato float que parecería que no es lo más apropiado. Las demás columnas tienen formato int64 que parece ser el correcto. También podemos ver que tenemos 157437 usuarios diferentes y se colocaron 478952 ordenes.\n",
    "\n",
    "En el segundo data frame que corresponde a los productos vemos que la información esta completa excepto la columna \"product_name\", por lo que lo más probable es que tengamos que completar con el método fillna o un búcle para sustituirlos. También podemos ver que tenemos 49694 ids de productos diferentes y de esos 48436 tienen nombre.\n",
    "\n",
    "El tercer y cuarto data frames \"aisle\" y \"departments\" están completos y corresponden a los pasillos y están completos.\n",
    "\n",
    "El quinto data frame \"order_products\" que corresponde a los artículo pedido en un pedido, a tiene valores faltantes en la columna \"add_to_cart_order\" y se refiere al orden secuencial en el que se añadió cada artículo en el carrito, además de que esta como valor float, lo cual parece estar erroneo.Por lo que revisaremos si se puede borrar al parecer un dato que no es relevante."
   ]
  },
  {
   "cell_type": "markdown",
   "id": "0d1d2dbb",
   "metadata": {},
   "source": [
    "<div class=\"alert alert-block alert-success\">\n",
    "<b>Comentario del revisor</b> <a class=\"tocSkip\"></a>\n",
    "\n",
    "Te felicito por la precisión que muestras a la hora de realizar las observaciones!</div>\n",
    "\n"
   ]
  },
  {
   "cell_type": "markdown",
   "id": "8RJHqxVmaVsF",
   "metadata": {
    "id": "8RJHqxVmaVsF"
   },
   "source": [
    "# Paso 2. Preprocesamiento de los datos\n",
    "\n",
    "Preprocesa los datos de la siguiente manera:\n",
    "\n",
    "- Verifica y corrige los tipos de datos (por ejemplo, asegúrate de que las columnas de ID sean números enteros).\n",
    "- Identifica y completa los valores ausentes.\n",
    "- Identifica y elimina los valores duplicados.\n",
    "\n",
    "Asegúrate de explicar qué tipos de valores ausentes y duplicados encontraste, cómo los completaste o eliminaste y por qué usaste esos métodos. ¿Por qué crees que estos valores ausentes y duplicados pueden haber estado presentes en el conjunto de datos?"
   ]
  },
  {
   "cell_type": "markdown",
   "id": "p6poABZQaZYb",
   "metadata": {
    "id": "p6poABZQaZYb"
   },
   "source": [
    "## Plan de solución\n",
    "\n",
    "Escribe aquí tu plan para el Paso 2. Preprocesamiento de los datos.\n",
    "\n",
    "Para los valores ausentes usaremos el método isna() junto con el método sum() y posteriomente en caso de ser necesario utilizaremos el método fillna() para sustituir estos valores ausentes o si así es conveniente usaremos el método dropna() para eliminar información que no se requiera y que este incompleta.\n",
    "\n",
    "Tendremos que revisar los data frames revisando si hay pedidos duplicados filtrandolos utlizando el método duplicated(). Una vez identificados, revisaremos el porque están duplicados, por ejemplo si es por cuestión de mayúsculas o mínusculas usaremos el método lower(). Después usaremos el método drop_duplicates() con el parámetro subset= en caso de ser necesario para quitar los duplicados que no sean necesarios.\n"
   ]
  },
  {
   "cell_type": "markdown",
   "id": "c12d7a34",
   "metadata": {},
   "source": [
    "\n",
    "<div class=\"alert alert-block alert-success\">\n",
    "<b>Comentario del revisor</b> <a class=\"tocSkip\"></a>\n",
    "\n",
    "Bien hecho! Es sumamente importante elaborar un plan de solución antes de ponerse a escribir el código.</div>"
   ]
  },
  {
   "cell_type": "markdown",
   "id": "07357848-dc64-4156-9cc3-01ff4365226d",
   "metadata": {
    "id": "07357848-dc64-4156-9cc3-01ff4365226d"
   },
   "source": [
    "## Encuentra y elimina los valores duplicados (y describe cómo tomaste tus decisiones).\n",
    "\n"
   ]
  },
  {
   "cell_type": "markdown",
   "id": "f179f0a9",
   "metadata": {
    "id": "f179f0a9"
   },
   "source": [
    "### `instacart_orders` data frame"
   ]
  },
  {
   "cell_type": "code",
   "execution_count": 9,
   "id": "b99297a5-405a-463d-8535-9adc3da4ad74",
   "metadata": {
    "id": "b99297a5-405a-463d-8535-9adc3da4ad74"
   },
   "outputs": [
    {
     "name": "stdout",
     "output_type": "stream",
     "text": [
      "        order_id  user_id  order_number  order_dow  order_hour_of_day  \\\n",
      "145574    794638    50898            24          3                  2   \n",
      "223105   2160484   107525            16          3                  2   \n",
      "230807   1918001   188546            14          3                  2   \n",
      "266232   1782114   106752             1          3                  2   \n",
      "273805   1112182   202304            84          3                  2   \n",
      "284038   2845099    31189            11          3                  2   \n",
      "311713   1021560    53767             3          3                  2   \n",
      "321100    408114    68324             4          3                  2   \n",
      "323900   1919531   191501            32          3                  2   \n",
      "345917   2232988    82565             1          3                  2   \n",
      "371905    391768    57671            19          3                  2   \n",
      "394347    467134    63189            21          3                  2   \n",
      "411408   1286742   183220            48          3                  2   \n",
      "415163   2282673    86751            49          3                  2   \n",
      "441599   2125197    14050            48          3                  2   \n",
      "\n",
      "        days_since_prior_order  \n",
      "145574                     2.0  \n",
      "223105                    30.0  \n",
      "230807                    16.0  \n",
      "266232                     NaN  \n",
      "273805                     6.0  \n",
      "284038                     7.0  \n",
      "311713                     9.0  \n",
      "321100                    18.0  \n",
      "323900                     7.0  \n",
      "345917                     NaN  \n",
      "371905                    10.0  \n",
      "394347                     2.0  \n",
      "411408                     4.0  \n",
      "415163                     2.0  \n",
      "441599                     3.0  \n"
     ]
    }
   ],
   "source": [
    "# Revisa si hay pedidos duplicados\n",
    "print(df_instacart_orders[df_instacart_orders.duplicated()])"
   ]
  },
  {
   "cell_type": "markdown",
   "id": "PEkwUX_gvt5A",
   "metadata": {
    "id": "PEkwUX_gvt5A"
   },
   "source": [
    "¿Tienes líneas duplicadas? Si sí, ¿qué tienen en común?\n",
    "Si tenemos 15 líneas, lo que tienen en común es que la información en las columnas \"order_dow\" y \"order_hour_of_day\" es igual en todas."
   ]
  },
  {
   "cell_type": "code",
   "execution_count": 10,
   "id": "0d44de5d",
   "metadata": {
    "id": "0d44de5d"
   },
   "outputs": [
    {
     "name": "stdout",
     "output_type": "stream",
     "text": [
      "        order_id  user_id  order_number  order_dow  order_hour_of_day  \\\n",
      "4838     2766110   162084            41          3                  2   \n",
      "5156     2190225   138285            18          3                  2   \n",
      "15506     553049    58599            13          3                  2   \n",
      "18420     382357   120200            19          3                  2   \n",
      "24691     690242    77357             2          3                  2   \n",
      "...          ...      ...           ...        ...                ...   \n",
      "457013   3384021    14881             6          3                  2   \n",
      "458816    910166   164782            18          3                  2   \n",
      "459635   1680532   106435             6          3                  2   \n",
      "468324    222962    54979            59          3                  2   \n",
      "477526   2592344    46860            38          3                  2   \n",
      "\n",
      "        days_since_prior_order  \n",
      "4838                      16.0  \n",
      "5156                      11.0  \n",
      "15506                      7.0  \n",
      "18420                     11.0  \n",
      "24691                      9.0  \n",
      "...                        ...  \n",
      "457013                    30.0  \n",
      "458816                     4.0  \n",
      "459635                    21.0  \n",
      "468324                     3.0  \n",
      "477526                     3.0  \n",
      "\n",
      "[121 rows x 6 columns]\n",
      "\n",
      "        order_id  user_id  order_number  order_dow  order_hour_of_day  \\\n",
      "145574    794638    50898            24          3                  2   \n",
      "223105   2160484   107525            16          3                  2   \n",
      "230807   1918001   188546            14          3                  2   \n",
      "266232   1782114   106752             1          3                  2   \n",
      "273805   1112182   202304            84          3                  2   \n",
      "284038   2845099    31189            11          3                  2   \n",
      "311713   1021560    53767             3          3                  2   \n",
      "321100    408114    68324             4          3                  2   \n",
      "323900   1919531   191501            32          3                  2   \n",
      "345917   2232988    82565             1          3                  2   \n",
      "371905    391768    57671            19          3                  2   \n",
      "394347    467134    63189            21          3                  2   \n",
      "411408   1286742   183220            48          3                  2   \n",
      "415163   2282673    86751            49          3                  2   \n",
      "441599   2125197    14050            48          3                  2   \n",
      "\n",
      "        days_since_prior_order  \n",
      "145574                     2.0  \n",
      "223105                    30.0  \n",
      "230807                    16.0  \n",
      "266232                     NaN  \n",
      "273805                     6.0  \n",
      "284038                     7.0  \n",
      "311713                     9.0  \n",
      "321100                    18.0  \n",
      "323900                     7.0  \n",
      "345917                     NaN  \n",
      "371905                    10.0  \n",
      "394347                     2.0  \n",
      "411408                     4.0  \n",
      "415163                     2.0  \n",
      "441599                     3.0  \n"
     ]
    }
   ],
   "source": [
    "# Basándote en tus hallazgos,\n",
    "# Verifica todos los pedidos que se hicieron el miércoles a las 2:00 a.m.\n",
    "\n",
    "print(df_instacart_orders[(df_instacart_orders['order_dow'] == 3) & (df_instacart_orders['order_hour_of_day'] == 2)])\n",
    "print() \n",
    "#Estoy usando este código para también ver así los duplicados:\n",
    "print(df_instacart_orders[df_instacart_orders.duplicated()])"
   ]
  },
  {
   "cell_type": "markdown",
   "id": "3b107d2f",
   "metadata": {},
   "source": [
    "\n",
    "<div class=\"alert alert-block alert-success\">\n",
    "<b>Comentario del revisor</b> <a class=\"tocSkip\"></a>\n",
    "\n",
    "Está muy bien que contextualices los valores duplicados!\n",
    "</div>"
   ]
  },
  {
   "cell_type": "markdown",
   "id": "vu2OWyoqwOx5",
   "metadata": {
    "id": "vu2OWyoqwOx5"
   },
   "source": [
    "¿Qué sugiere este resultado?\n",
    "Si tenemos 15 duplicados "
   ]
  },
  {
   "cell_type": "code",
   "execution_count": 11,
   "id": "480563c7",
   "metadata": {
    "id": "480563c7"
   },
   "outputs": [],
   "source": [
    "# Elimina los pedidos duplicados\n",
    "df_instacart_orders = df_instacart_orders.drop_duplicates()\n"
   ]
  },
  {
   "cell_type": "code",
   "execution_count": 12,
   "id": "0b2396a2",
   "metadata": {
    "id": "0b2396a2"
   },
   "outputs": [
    {
     "data": {
      "text/plain": [
       "0"
      ]
     },
     "execution_count": 12,
     "metadata": {},
     "output_type": "execute_result"
    }
   ],
   "source": [
    "# Vuelve a verificar si hay filas duplicadas\n",
    "df_instacart_orders.duplicated().sum()"
   ]
  },
  {
   "cell_type": "code",
   "execution_count": 13,
   "id": "f6113ef1",
   "metadata": {
    "id": "f6113ef1",
    "scrolled": true
   },
   "outputs": [
    {
     "data": {
      "text/plain": [
       "0"
      ]
     },
     "execution_count": 13,
     "metadata": {},
     "output_type": "execute_result"
    }
   ],
   "source": [
    "# Vuelve a verificar si hay IDs duplicados de pedidos\n",
    "df_instacart_orders['order_id'].duplicated().sum()"
   ]
  },
  {
   "cell_type": "markdown",
   "id": "5e8905ae",
   "metadata": {
    "id": "5e8905ae"
   },
   "source": [
    "Describe brevemente tus hallazgos y lo que hiciste con ellos:\n",
    "Después de revisar el data frame de las ordene, nos dimos cuenta que si había 15 duplicados por lo que los eliminamos."
   ]
  },
  {
   "cell_type": "markdown",
   "id": "45e6bc46",
   "metadata": {
    "id": "45e6bc46"
   },
   "source": [
    "### `products` data frame"
   ]
  },
  {
   "cell_type": "code",
   "execution_count": 14,
   "id": "5f526b5b-8175-46fa-a0fd-441767d50e64",
   "metadata": {
    "id": "5f526b5b-8175-46fa-a0fd-441767d50e64"
   },
   "outputs": [
    {
     "data": {
      "text/plain": [
       "0"
      ]
     },
     "execution_count": 14,
     "metadata": {},
     "output_type": "execute_result"
    }
   ],
   "source": [
    "# Verifica si hay filas totalmente duplicadas\n",
    "df_products.duplicated().sum()"
   ]
  },
  {
   "cell_type": "code",
   "execution_count": 15,
   "id": "88daa4f4",
   "metadata": {
    "id": "88daa4f4"
   },
   "outputs": [
    {
     "data": {
      "text/plain": [
       "0"
      ]
     },
     "execution_count": 15,
     "metadata": {},
     "output_type": "execute_result"
    }
   ],
   "source": [
    "# Verifica si hay IDs duplicadas de productos\n",
    "df_products['product_id'].duplicated().sum()"
   ]
  },
  {
   "cell_type": "code",
   "execution_count": 16,
   "id": "c773f0bf",
   "metadata": {
    "id": "c773f0bf"
   },
   "outputs": [
    {
     "name": "stdout",
     "output_type": "stream",
     "text": [
      "Tenemos en total duplicados: 1257\n",
      "\n"
     ]
    },
    {
     "data": {
      "text/html": [
       "<div>\n",
       "<style scoped>\n",
       "    .dataframe tbody tr th:only-of-type {\n",
       "        vertical-align: middle;\n",
       "    }\n",
       "\n",
       "    .dataframe tbody tr th {\n",
       "        vertical-align: top;\n",
       "    }\n",
       "\n",
       "    .dataframe thead th {\n",
       "        text-align: right;\n",
       "    }\n",
       "</style>\n",
       "<table border=\"1\" class=\"dataframe\">\n",
       "  <thead>\n",
       "    <tr style=\"text-align: right;\">\n",
       "      <th></th>\n",
       "      <th>product_id</th>\n",
       "      <th>product_name</th>\n",
       "      <th>aisle_id</th>\n",
       "      <th>department_id</th>\n",
       "    </tr>\n",
       "  </thead>\n",
       "  <tbody>\n",
       "    <tr>\n",
       "      <th>39995</th>\n",
       "      <td>39996</td>\n",
       "      <td>SAN MARZANO TOMATOES WITH BASIL</td>\n",
       "      <td>81</td>\n",
       "      <td>15</td>\n",
       "    </tr>\n",
       "    <tr>\n",
       "      <th>33709</th>\n",
       "      <td>33710</td>\n",
       "      <td>MATZOS MOONSTRIPS ONION POPPY</td>\n",
       "      <td>33</td>\n",
       "      <td>6</td>\n",
       "    </tr>\n",
       "    <tr>\n",
       "      <th>45903</th>\n",
       "      <td>45904</td>\n",
       "      <td>VITAMIN CODE 50 &amp; WISER WOMEN'S MULTIVITAMIN</td>\n",
       "      <td>47</td>\n",
       "      <td>11</td>\n",
       "    </tr>\n",
       "  </tbody>\n",
       "</table>\n",
       "</div>"
      ],
      "text/plain": [
       "       product_id                                  product_name  aisle_id  \\\n",
       "39995       39996               SAN MARZANO TOMATOES WITH BASIL        81   \n",
       "33709       33710                 MATZOS MOONSTRIPS ONION POPPY        33   \n",
       "45903       45904  VITAMIN CODE 50 & WISER WOMEN'S MULTIVITAMIN        47   \n",
       "\n",
       "       department_id  \n",
       "39995             15  \n",
       "33709              6  \n",
       "45903             11  "
      ]
     },
     "execution_count": 16,
     "metadata": {},
     "output_type": "execute_result"
    }
   ],
   "source": [
    "# Revisa si hay nombres duplicados de productos (convierte los nombres a letras mayúsculas para compararlos mejor)\n",
    "print('Tenemos en total duplicados:',df_products['product_name'].duplicated().sum())\n",
    "print()\n",
    "df_products['product_name'] = df_products['product_name'].str.upper()\n",
    "df_products.sample(3)"
   ]
  },
  {
   "cell_type": "code",
   "execution_count": 28,
   "id": "01efd02e",
   "metadata": {
    "id": "01efd02e"
   },
   "outputs": [
    {
     "data": {
      "text/plain": [
       "1361"
      ]
     },
     "execution_count": 28,
     "metadata": {},
     "output_type": "execute_result"
    }
   ],
   "source": [
    "# Revisa si hay nombres duplicados de productos no faltantes\n",
    "df_products['product_name'].duplicated().sum()"
   ]
  },
  {
   "cell_type": "markdown",
   "id": "9da8d293",
   "metadata": {
    "id": "9da8d293"
   },
   "source": [
    "Describe brevemente tus hallazgos y lo que hiciste con ellos.\n",
    "Solo se encontraron valores duplicados en los nombres de los productos (1361 artículos) no es sus id's por lo que aunque tegan nombres iguales debe tratarse de productos diferentes con el mismo nombre, por ejemplo que contengan diferente cantidad pero sea el mismo producto. Debido a esto considero que debemos dejar los nombres duplicados ya que su id si es único. "
   ]
  },
  {
   "cell_type": "markdown",
   "id": "60f30db1",
   "metadata": {
    "id": "60f30db1"
   },
   "source": [
    "### `departments` data frame"
   ]
  },
  {
   "cell_type": "code",
   "execution_count": 17,
   "id": "fb410ad4-0fbf-4b80-bb09-23fdea79afe3",
   "metadata": {
    "id": "fb410ad4-0fbf-4b80-bb09-23fdea79afe3"
   },
   "outputs": [
    {
     "data": {
      "text/plain": [
       "0"
      ]
     },
     "execution_count": 17,
     "metadata": {},
     "output_type": "execute_result"
    }
   ],
   "source": [
    "# Revisa si hay filas totalmente duplicadas\n",
    "df_departments.duplicated().sum()"
   ]
  },
  {
   "cell_type": "code",
   "execution_count": 18,
   "id": "332b12bb",
   "metadata": {
    "id": "332b12bb"
   },
   "outputs": [
    {
     "data": {
      "text/plain": [
       "0"
      ]
     },
     "execution_count": 18,
     "metadata": {},
     "output_type": "execute_result"
    }
   ],
   "source": [
    "# Revisa si hay IDs duplicadas de productos\n",
    "df_departments['department_id'].duplicated().sum()"
   ]
  },
  {
   "cell_type": "markdown",
   "id": "bd30d78e",
   "metadata": {
    "id": "bd30d78e"
   },
   "source": [
    "Describe brevemente tus hallazgos y lo que hiciste con ellos.\n",
    "En el data frame de departments no tenemos duplicados."
   ]
  },
  {
   "cell_type": "markdown",
   "id": "889349c1",
   "metadata": {
    "id": "889349c1"
   },
   "source": [
    "### `aisles` data frame"
   ]
  },
  {
   "cell_type": "code",
   "execution_count": 19,
   "id": "9da89fb9-4679-40f5-ad0d-c34df753a3f8",
   "metadata": {
    "id": "9da89fb9-4679-40f5-ad0d-c34df753a3f8"
   },
   "outputs": [
    {
     "data": {
      "text/plain": [
       "0"
      ]
     },
     "execution_count": 19,
     "metadata": {},
     "output_type": "execute_result"
    }
   ],
   "source": [
    "# Revisa si hay filas totalmente duplicadas\n",
    "df_aisles.duplicated().sum()"
   ]
  },
  {
   "cell_type": "code",
   "execution_count": 20,
   "id": "da7c2822",
   "metadata": {
    "id": "da7c2822"
   },
   "outputs": [
    {
     "data": {
      "text/plain": [
       "0"
      ]
     },
     "execution_count": 20,
     "metadata": {},
     "output_type": "execute_result"
    }
   ],
   "source": [
    "# Revisa si hay IDs duplicadas de productos\n",
    "df_aisles['aisle_id'].duplicated().sum()"
   ]
  },
  {
   "cell_type": "markdown",
   "id": "ac63826f",
   "metadata": {
    "id": "ac63826f"
   },
   "source": [
    "Describe brevemente tus hallazgos y lo que hiciste con ellos.\n",
    "En el data frame de aisles no tenemos duplicados."
   ]
  },
  {
   "cell_type": "markdown",
   "id": "274cd06a",
   "metadata": {
    "id": "274cd06a"
   },
   "source": [
    "### `order_products` data frame"
   ]
  },
  {
   "cell_type": "code",
   "execution_count": 21,
   "id": "52326689-84a8-4b8f-a881-7c68780f62c9",
   "metadata": {
    "id": "52326689-84a8-4b8f-a881-7c68780f62c9"
   },
   "outputs": [
    {
     "data": {
      "text/plain": [
       "0"
      ]
     },
     "execution_count": 21,
     "metadata": {},
     "output_type": "execute_result"
    }
   ],
   "source": [
    "# Revisa si hay filas totalmente duplicadas\n",
    "df_order_products.duplicated().sum()"
   ]
  },
  {
   "cell_type": "code",
   "execution_count": 22,
   "id": "7b861391",
   "metadata": {
    "id": "7b861391"
   },
   "outputs": [
    {
     "data": {
      "text/plain": [
       "0"
      ]
     },
     "execution_count": 22,
     "metadata": {},
     "output_type": "execute_result"
    }
   ],
   "source": [
    "# Vuelve a verificar si hay cualquier otro duplicado engañoso\n",
    "df_order_products[['order_id','product_id']] .duplicated().sum()"
   ]
  },
  {
   "cell_type": "markdown",
   "id": "0b890492",
   "metadata": {
    "id": "0b890492"
   },
   "source": [
    "Describe brevemente tus hallazgos y lo que hiciste con ellos.\n",
    "No descubrimos valores duplicados, ya que las columnas \"add_to_cart_order\" y \"reordered\" tienen valores que se repiten en cada orden no los tomamos en cuenta. Y en las filas\"order_id\" y \"product_id\" no se encontraron duplicados de mismas ordenes o mismos productos en esa orden."
   ]
  },
  {
   "cell_type": "markdown",
   "id": "1e46de76",
   "metadata": {
    "id": "1e46de76"
   },
   "source": [
    "## Encuentra y elimina los valores ausentes\n",
    "\n",
    "Al trabajar con valores duplicados, pudimos observar que también nos falta investigar valores ausentes:\n",
    "\n",
    "* La columna `'product_name'` de la tabla products.\n",
    "* La columna `'days_since_prior_order'` de la tabla orders.\n",
    "* La columna `'add_to_cart_order'` de la tabla order_productos."
   ]
  },
  {
   "cell_type": "markdown",
   "id": "c0aebd78",
   "metadata": {
    "id": "c0aebd78"
   },
   "source": [
    "### `products` data frame"
   ]
  },
  {
   "cell_type": "code",
   "execution_count": 23,
   "id": "fe4a8b0f",
   "metadata": {
    "id": "fe4a8b0f"
   },
   "outputs": [
    {
     "name": "stdout",
     "output_type": "stream",
     "text": [
      "1258\n",
      "\n",
      "       product_id product_name  aisle_id  department_id\n",
      "37             38          NaN       100             21\n",
      "71             72          NaN       100             21\n",
      "109           110          NaN       100             21\n",
      "296           297          NaN       100             21\n",
      "416           417          NaN       100             21\n",
      "...           ...          ...       ...            ...\n",
      "49552       49553          NaN       100             21\n",
      "49574       49575          NaN       100             21\n",
      "49640       49641          NaN       100             21\n",
      "49663       49664          NaN       100             21\n",
      "49668       49669          NaN       100             21\n",
      "\n",
      "[1258 rows x 4 columns]\n"
     ]
    }
   ],
   "source": [
    "# Encuentra los valores ausentes en la columna 'product_name'\n",
    "print(df_products['product_name'].isna().sum())\n",
    "print()\n",
    "print(df_products[df_products['product_name'].isna()])"
   ]
  },
  {
   "cell_type": "markdown",
   "id": "-A6x1AbJhjkp",
   "metadata": {
    "id": "-A6x1AbJhjkp"
   },
   "source": [
    "Describe brevemente cuáles son tus hallazgos. \n",
    "Tenemos 1258 valores ausentes en la columna de \"product_name\", pareciera que todos estan en el mismo pasillo y departamento (aisle_id 100 y department_id 21)"
   ]
  },
  {
   "cell_type": "code",
   "execution_count": 24,
   "id": "e96167bc",
   "metadata": {
    "id": "e96167bc"
   },
   "outputs": [
    {
     "data": {
      "text/plain": [
       "array([100])"
      ]
     },
     "execution_count": 24,
     "metadata": {},
     "output_type": "execute_result"
    }
   ],
   "source": [
    "#  ¿Todos los nombres de productos ausentes están relacionados con el pasillo con ID 100?\n",
    "df_products[df_products['product_name'].isna()]['aisle_id'].unique()"
   ]
  },
  {
   "cell_type": "markdown",
   "id": "WRpIfXRphpSL",
   "metadata": {
    "id": "WRpIfXRphpSL"
   },
   "source": [
    "Describe brevemente cuáles son tus hallazgos.\n",
    "\n",
    "De acuerdo con unique() el valor único en la columna aisle_id si es el pasillo con ID 100"
   ]
  },
  {
   "cell_type": "code",
   "execution_count": 25,
   "id": "8fd0a541",
   "metadata": {
    "id": "8fd0a541"
   },
   "outputs": [
    {
     "data": {
      "text/plain": [
       "array([21])"
      ]
     },
     "execution_count": 25,
     "metadata": {},
     "output_type": "execute_result"
    }
   ],
   "source": [
    "# ¿Todos los nombres de productos ausentes están relacionados con el departamento con ID 21?\n",
    "df_products[df_products['product_name'].isna()]['department_id'].unique()"
   ]
  },
  {
   "cell_type": "markdown",
   "id": "qDpdYn1Fht_I",
   "metadata": {
    "id": "qDpdYn1Fht_I"
   },
   "source": [
    "Describe brevemente cuáles son tus hallazgos.\n",
    "\n",
    "De acuerdo con unique() el valor único en la columna del department_id si es en el departamento con ID 21"
   ]
  },
  {
   "cell_type": "code",
   "execution_count": 26,
   "id": "325c3464",
   "metadata": {
    "id": "325c3464"
   },
   "outputs": [
    {
     "name": "stdout",
     "output_type": "stream",
     "text": [
      "aisle_id    100\n",
      "aisle_id    100\n",
      "Name: 99, dtype: object\n",
      "\n",
      "    department_id department\n",
      "20             21    missing\n",
      "\n",
      "    aisle_id    aisle\n",
      "99       100  missing\n"
     ]
    }
   ],
   "source": [
    "# Usa las tablas department y aisle para revisar los datos del pasillo con ID 100 y el departamento con ID 21.\n",
    "print(df_aisles.loc[99,['aisle_id','aisle_id']])\n",
    "print()\n",
    "print(df_departments[df_departments['department_id'] == 21])\n",
    "print()\n",
    "print(df_aisles[df_aisles['aisle_id'] == 100])\n"
   ]
  },
  {
   "cell_type": "markdown",
   "id": "nqhSTUPhhvEJ",
   "metadata": {
    "id": "nqhSTUPhhvEJ"
   },
   "source": [
    "Describe brevemente cuáles son tus hallazgos.\n",
    "Este departamento y pasillo se puede referir a productos faltantes en la tienda y que en su sistema los mandan a ese pasillo llamado \"missing\" lo que pudiera explicar por que no tienen nombre los productos."
   ]
  },
  {
   "cell_type": "code",
   "execution_count": 27,
   "id": "6b295120",
   "metadata": {
    "id": "6b295120"
   },
   "outputs": [
    {
     "name": "stdout",
     "output_type": "stream",
     "text": [
      "0\n",
      "\n",
      "       product_id product_name  aisle_id  department_id\n",
      "5091         5092      Unknown       100             21\n",
      "3776         3777      Unknown       100             21\n",
      "5173         5174      Unknown       100             21\n",
      "19683       19684      Unknown       100             21\n",
      "32209       32210      Unknown       100             21\n"
     ]
    }
   ],
   "source": [
    "# Completa los nombres de productos ausentes con 'Unknown'\n",
    "df_products['product_name'].fillna('Unknown', inplace=True)\n",
    "print(df_products['product_name'].isna().sum())\n",
    "print()\n",
    "print(df_products[df_products['product_name'] == 'Unknown'].sample(5))"
   ]
  },
  {
   "cell_type": "markdown",
   "id": "acdae613",
   "metadata": {},
   "source": [
    "\n",
    "<div class=\"alert alert-block alert-success\">\n",
    "<b>Comentario del revisor</b> <a class=\"tocSkip\"></a>\n",
    "\n",
    "Te felicito por haber eliminado los NaNs! Es una parte fundamental del análisis de datos!\n",
    "</div>"
   ]
  },
  {
   "cell_type": "markdown",
   "id": "fc70e5ad",
   "metadata": {
    "id": "fc70e5ad"
   },
   "source": [
    "Describe brevemente tus hallazgos y lo que hiciste con ellos.\n",
    "Cambiamos el valor ausente del nombre de los productos en la tabla de productos por \"Unkown\" para poder usar esa información posteriormente."
   ]
  },
  {
   "cell_type": "markdown",
   "id": "7eb45c86",
   "metadata": {
    "id": "7eb45c86"
   },
   "source": [
    "### `orders` data frame"
   ]
  },
  {
   "cell_type": "code",
   "execution_count": 28,
   "id": "93e41d96",
   "metadata": {
    "id": "93e41d96"
   },
   "outputs": [
    {
     "data": {
      "text/plain": [
       "order_id                      0\n",
       "user_id                       0\n",
       "order_number                  0\n",
       "order_dow                     0\n",
       "order_hour_of_day             0\n",
       "days_since_prior_order    28817\n",
       "dtype: int64"
      ]
     },
     "execution_count": 28,
     "metadata": {},
     "output_type": "execute_result"
    }
   ],
   "source": [
    "# Encuentra los valores ausentes\n",
    "df_instacart_orders.isna().sum()"
   ]
  },
  {
   "cell_type": "code",
   "execution_count": 29,
   "id": "166e5a86",
   "metadata": {
    "id": "166e5a86"
   },
   "outputs": [
    {
     "data": {
      "text/plain": [
       "0"
      ]
     },
     "execution_count": 29,
     "metadata": {},
     "output_type": "execute_result"
    }
   ],
   "source": [
    "# ¿Hay algún valor ausente que no sea el primer pedido del cliente?\n",
    "df_instacart_orders[df_instacart_orders['order_number'] > 1]['days_since_prior_order'].isna().sum()"
   ]
  },
  {
   "cell_type": "markdown",
   "id": "4e23d089",
   "metadata": {
    "id": "4e23d089"
   },
   "source": [
    "Describe brevemente tus hallazgos y lo que hiciste con ellos.\n",
    "De acuerdo a la información vemos que tenemos 28817 valores ausentes en la columna \"days_since_prior_order\", buscamos en particular si había valores ausentes que fueran de un pedido posterior al primero pero no encontramos con ese parametro."
   ]
  },
  {
   "cell_type": "markdown",
   "id": "69dc9ca4",
   "metadata": {
    "id": "69dc9ca4"
   },
   "source": [
    "### `order_products` data frame"
   ]
  },
  {
   "cell_type": "code",
   "execution_count": 30,
   "id": "b8240253",
   "metadata": {
    "id": "b8240253"
   },
   "outputs": [
    {
     "data": {
      "text/plain": [
       "order_id               0\n",
       "product_id             0\n",
       "add_to_cart_order    836\n",
       "reordered              0\n",
       "dtype: int64"
      ]
     },
     "execution_count": 30,
     "metadata": {},
     "output_type": "execute_result"
    }
   ],
   "source": [
    "# Encuentra los valores ausentes\n",
    "df_order_products.isna().sum()"
   ]
  },
  {
   "cell_type": "code",
   "execution_count": 31,
   "id": "9a78e5ee",
   "metadata": {
    "id": "9a78e5ee"
   },
   "outputs": [
    {
     "data": {
      "text/plain": [
       "(1.0, 64.0)"
      ]
     },
     "execution_count": 31,
     "metadata": {},
     "output_type": "execute_result"
    }
   ],
   "source": [
    "# ¿Cuáles son los valores mínimos y máximos en esta columna?\n",
    "df_order_products['add_to_cart_order'].min(),df_order_products['add_to_cart_order'].max()"
   ]
  },
  {
   "cell_type": "markdown",
   "id": "-Z2Ja215jW78",
   "metadata": {
    "id": "-Z2Ja215jW78"
   },
   "source": [
    "Describe brevemente cuáles son tus hallazgos.\n",
    "Tenemos 836 valores ausentes en la columna 'add_to_cart_order' que se refiere al orden secuencial en el que se añadió cada artículo en el carrito y vemos que el máximo de artículos que se agregaron en el carrito fueron 64. "
   ]
  },
  {
   "cell_type": "code",
   "execution_count": 32,
   "id": "ab9d0c2b",
   "metadata": {
    "id": "ab9d0c2b"
   },
   "outputs": [
    {
     "name": "stdout",
     "output_type": "stream",
     "text": [
      "737        2449164\n",
      "9926       1968313\n",
      "14394      2926893\n",
      "16418      1717990\n",
      "30114      1959075\n",
      "            ...   \n",
      "4505662    1800005\n",
      "4511400    1633337\n",
      "4517562     404157\n",
      "4534112    1673227\n",
      "4535739    1832957\n",
      "Name: order_id, Length: 836, dtype: int64\n"
     ]
    }
   ],
   "source": [
    "# Guarda todas las IDs de pedidos que tengan un valor ausente en 'add_to_cart_order'\n",
    "order_id_con_ausentes = df_order_products[df_order_products['add_to_cart_order'].isna()]['order_id']\n",
    "print(order_id_con_ausentes)"
   ]
  },
  {
   "cell_type": "code",
   "execution_count": 33,
   "id": "54c31695",
   "metadata": {
    "id": "54c31695"
   },
   "outputs": [
    {
     "name": "stdout",
     "output_type": "stream",
     "text": [
      "0\n",
      "0\n",
      "          product_id  add_to_cart_order  reordered\n",
      "order_id                                          \n",
      "9310               1                  0          1\n",
      "61355             63                  0         63\n",
      "102236            31                  0         31\n",
      "129627             5                  0          5\n",
      "165801             6                  0          6\n",
      "...              ...                ...        ...\n",
      "2999801            6                  0          6\n",
      "3125735           22                  0         22\n",
      "3308010           51                  0         51\n",
      "3347453            7                  0          7\n",
      "3383594            5                  0          5\n",
      "\n",
      "[70 rows x 3 columns]\n",
      "1\n"
     ]
    }
   ],
   "source": [
    "# ¿Todos los pedidos con valores ausentes tienen más de 64 productos? No, ningún pedido con valor ausente tiene más de 64 productos.\n",
    "\n",
    "df_order_products[df_order_products['add_to_cart_order'].isnull()]['order_id']\n",
    "print(df_order_products[df_order_products['add_to_cart_order'] > 64]['order_id'].count())\n",
    "\n",
    "# **** También lo probé con .query a ver si me salía lo mismo:****\n",
    "\n",
    "filtered_df = df_order_products.query('add_to_cart_order > 64') \n",
    "order_ids_with_missing_values = filtered_df[filtered_df['add_to_cart_order'].isna()]['order_id']\n",
    "print(order_ids_with_missing_values.count())\n",
    "\n",
    "# Agrupa todos los pedidos con datos ausentes por su ID de pedido.\n",
    "print(df_order_products[df_order_products['add_to_cart_order'].isna()].groupby('order_id').count())\n",
    "\n",
    "# Cuenta el número de 'product_id' en cada pedido y revisa el valor mínimo del conteo.\n",
    "print(df_order_products[df_order_products['add_to_cart_order'].isna()].groupby('order_id').count()['product_id'].min())"
   ]
  },
  {
   "cell_type": "markdown",
   "id": "p9V6pddtjglj",
   "metadata": {
    "id": "p9V6pddtjglj"
   },
   "source": [
    "Describe brevemente cuáles son tus hallazgos.\n",
    "\n",
    "Podemos ver que tenemos 836 valores ausentes y estos se encuentran solo en a columna de 'add_to_cart_order' que se refiere al orden secuencial en el que se añadió cada artículo en el carrito y vemos que el máximo de artículos que se agregaron en el carrito fueron 64, ninguno de los pedidos con valores ausentes tiene más de 64 artículos. También vemos que casi todos los valores ausentes están en diferentes pedidos."
   ]
  },
  {
   "cell_type": "code",
   "execution_count": 34,
   "id": "7a987d08",
   "metadata": {
    "id": "7a987d08"
   },
   "outputs": [
    {
     "name": "stdout",
     "output_type": "stream",
     "text": [
      "<class 'pandas.core.frame.DataFrame'>\n",
      "RangeIndex: 4545007 entries, 0 to 4545006\n",
      "Data columns (total 4 columns):\n",
      " #   Column             Dtype\n",
      "---  ------             -----\n",
      " 0   order_id           int64\n",
      " 1   product_id         int64\n",
      " 2   add_to_cart_order  int64\n",
      " 3   reordered          int64\n",
      "dtypes: int64(4)\n",
      "memory usage: 138.7 MB\n"
     ]
    }
   ],
   "source": [
    "# Remplaza los valores ausentes en la columna 'add_to_cart? con 999 y convierte la columna al tipo entero.\n",
    "df_order_products['add_to_cart_order'] = df_order_products['add_to_cart_order'].fillna(999).astype(int)\n",
    "df_order_products.info()"
   ]
  },
  {
   "cell_type": "markdown",
   "id": "fea4bcc7",
   "metadata": {
    "id": "fea4bcc7"
   },
   "source": [
    "Describe brevemente tus hallazgos y lo que hiciste con ellos.\n",
    "Rellenamos los valores ausentes de la columna 'add_to_cart_oder' con 999 para que estuviesen completos y al mismo tiempo los convertimos a enteros por que no tenía caso que fueran valores float64.\n"
   ]
  },
  {
   "cell_type": "markdown",
   "id": "d1b44ea4",
   "metadata": {},
   "source": [
    "\n",
    "\n",
    "<div class=\"alert alert-block alert-success\">\n",
    "<b>Comentario del revisor</b> <a class=\"tocSkip\"></a>\n",
    "\n",
    "Muy correcto todo tu trabajo con respecto a valores ausentes. Bien hecho!\n",
    "</div>\n"
   ]
  },
  {
   "cell_type": "code",
   "execution_count": null,
   "id": "e7968247",
   "metadata": {},
   "outputs": [],
   "source": []
  },
  {
   "cell_type": "markdown",
   "id": "RnplPFY1gSrb",
   "metadata": {
    "id": "RnplPFY1gSrb"
   },
   "source": [
    "## Conclusiones\n",
    "\n",
    "Escribe aquí tus conclusiones intermedias sobre el Paso 2. Preprocesamiento de los datos\n",
    "\n",
    "Logramos visualizar más detalladamente la información que nos daban las tablas y también pudimos limpiar la inforamación de ellas para que nos pueda ser más útil en nuestros analisis; revisamos valores duplicados y se corrigieron datos como valores ausentes.\n"
   ]
  },
  {
   "cell_type": "markdown",
   "id": "UjrOIwTcz3ri",
   "metadata": {
    "id": "UjrOIwTcz3ri"
   },
   "source": [
    "# Paso 3. Análisis de los datos\n",
    "\n",
    "Una vez los datos estén procesados y listos, haz el siguiente análisis:"
   ]
  },
  {
   "cell_type": "markdown",
   "id": "turkish-kidney",
   "metadata": {
    "id": "turkish-kidney"
   },
   "source": [
    "# [A] Fácil (deben completarse todos para aprobar)\n",
    "\n",
    "1. Verifica que los valores en las columnas `'order_hour_of_day'` y `'order_dow'` en la tabla orders sean razonables (es decir, `'order_hour_of_day'` oscile entre 0 y 23 y `'order_dow'` oscile entre 0 y 6).\n",
    "2. Crea un gráfico que muestre el número de personas que hacen pedidos dependiendo de la hora del día.\n",
    "3. Crea un gráfico que muestre qué día de la semana la gente hace sus compras.\n",
    "4. Crea un gráfico que muestre el tiempo que la gente espera hasta hacer su siguiente pedido, y comenta sobre los valores mínimos y máximos."
   ]
  },
  {
   "cell_type": "markdown",
   "id": "short-capability",
   "metadata": {
    "id": "short-capability"
   },
   "source": [
    "### [A1] Verifica que los valores sean sensibles"
   ]
  },
  {
   "cell_type": "code",
   "execution_count": 35,
   "id": "growing-fruit",
   "metadata": {
    "id": "growing-fruit"
   },
   "outputs": [
    {
     "name": "stdout",
     "output_type": "stream",
     "text": [
      "0 23\n"
     ]
    }
   ],
   "source": [
    "print(df_instacart_orders['order_hour_of_day'].min(), df_instacart_orders['order_hour_of_day'].max())"
   ]
  },
  {
   "cell_type": "code",
   "execution_count": 36,
   "id": "accessory-malaysia",
   "metadata": {
    "id": "accessory-malaysia"
   },
   "outputs": [
    {
     "name": "stdout",
     "output_type": "stream",
     "text": [
      "0 6\n"
     ]
    }
   ],
   "source": [
    "print(df_instacart_orders['order_dow'].min(),df_instacart_orders['order_dow'].max())"
   ]
  },
  {
   "cell_type": "markdown",
   "id": "hmR2GNQ6lCsX",
   "metadata": {
    "id": "hmR2GNQ6lCsX"
   },
   "source": [
    "Escribe aquí tus conclusiones\n",
    "Vemos que los valores de las columnas si oscilan entre los valores que se piden."
   ]
  },
  {
   "cell_type": "markdown",
   "id": "1e34cbef",
   "metadata": {},
   "source": [
    "\n",
    "<div class=\"alert alert-block alert-success\">\n",
    "<b>Comentario del revisor</b> <a class=\"tocSkip\"></a>\n",
    "    \n",
    "Está muy bien la comprobación que hiciste sobre la sensibilidad de los valores.\n",
    "</div>\n"
   ]
  },
  {
   "cell_type": "markdown",
   "id": "a6743a70",
   "metadata": {
    "id": "a6743a70"
   },
   "source": [
    "### [A2] Para cada hora del día, ¿cuántas personas hacen órdenes?"
   ]
  },
  {
   "cell_type": "code",
   "execution_count": 37,
   "id": "a36cca27",
   "metadata": {
    "id": "a36cca27"
   },
   "outputs": [
    {
     "data": {
      "image/png": "[encoded data removed]",
      "text/plain": [
       "<Figure size 640x480 with 1 Axes>"
      ]
     },
     "metadata": {},
     "output_type": "display_data"
    }
   ],
   "source": [
    "#Crea un gráfico que muestre el número de personas que hacen pedidos dependiendo de la hora del día.\n",
    "import pandas as pd\n",
    "from matplotlib import pyplot as plt\n",
    "df_personas_vs_hr = df_instacart_orders.groupby('order_hour_of_day').size().reset_index(name='num_personas')\n",
    "plt.bar(df_personas_vs_hr['order_hour_of_day'], df_personas_vs_hr['num_personas']) \n",
    "plt.xlabel('Hora del día')\n",
    "plt.ylabel('Número de personas')\n",
    "plt.show()\n"
   ]
  },
  {
   "cell_type": "markdown",
   "id": "11270eed",
   "metadata": {
    "id": "11270eed"
   },
   "source": [
    "Escribe aquí tus conclusiones\n",
    "Vemos que la hr en la que las personas hacen más pedido es a las 10 am y de ahí se mantiene masomenos igual hasta las 4 pm cuando empiezan a bajar los pedidos."
   ]
  },
  {
   "cell_type": "markdown",
   "id": "documented-command",
   "metadata": {
    "id": "documented-command"
   },
   "source": [
    "### [A3] ¿Qué día de la semana compran víveres las personas?"
   ]
  },
  {
   "cell_type": "code",
   "execution_count": 38,
   "id": "chief-digit",
   "metadata": {
    "id": "chief-digit"
   },
   "outputs": [
    {
     "data": {
      "image/png": "[encoded data removed]",
      "text/plain": [
       "<Figure size 640x480 with 1 Axes>"
      ]
     },
     "metadata": {},
     "output_type": "display_data"
    }
   ],
   "source": [
    "#Crea un gráfico que muestre qué día de la semana la gente hace sus compras\n",
    "df_personas_vs_dia = df_instacart_orders.groupby('order_dow').size().reset_index(name='num_personas')\n",
    "plt.bar(df_personas_vs_dia['order_dow'], df_personas_vs_dia['num_personas'])\n",
    "plt.xlabel('Día de la semana')\n",
    "plt.ylabel('Número de personas')\n",
    "plt.title('Número de personas que hacen pedidos por día de la semana')\n",
    "plt.show()\n"
   ]
  },
  {
   "cell_type": "markdown",
   "id": "dominant-lightning",
   "metadata": {
    "id": "dominant-lightning"
   },
   "source": [
    "Escribe aquí tus conclusiones\n",
    "Vemos que el mayor numero de pedidos se hace en domingo y después el lunes, el día que menos se hacen pedidos es el jueves."
   ]
  },
  {
   "cell_type": "markdown",
   "id": "cutting-concert",
   "metadata": {
    "id": "cutting-concert"
   },
   "source": [
    "### [A4] ¿Cuánto tiempo esperan las personas hasta hacer otro pedido? Comenta sobre los valores mínimos y máximos."
   ]
  },
  {
   "cell_type": "code",
   "execution_count": 39,
   "id": "c231f523",
   "metadata": {
    "id": "c231f523"
   },
   "outputs": [
    {
     "data": {
      "image/png": "[encoded data removed]",
      "text/plain": [
       "<Figure size 640x480 with 1 Axes>"
      ]
     },
     "metadata": {},
     "output_type": "display_data"
    }
   ],
   "source": [
    "#Crea un gráfico que muestre el tiempo que la gente espera hasta hacer su siguiente pedido, y comenta sobre los valores mínimos y máximos.\n",
    "df_personas_vs_espera = df_instacart_orders.groupby('days_since_prior_order').size().reset_index(name='num_personas')\n",
    "plt.bar(df_personas_vs_espera['days_since_prior_order'], df_personas_vs_espera['num_personas'])\n",
    "plt.xlabel('Tiempo de espera')\n",
    "plt.ylabel('Número de personas')\n",
    "plt.show()"
   ]
  },
  {
   "cell_type": "markdown",
   "id": "discrete-vertex",
   "metadata": {
    "id": "discrete-vertex"
   },
   "source": [
    "Escribe aquí tus conclusiones\n",
    "\n",
    "Vemos que la mayoría de las personas tarda al menos 30 días más en poner su siguiente pedido aunque una porción muy importante lo pone al rededor de una semana después de que la puso y la siguiente porción más importante de numero de personas pone su orden los primeros días después de que puso la primera."
   ]
  },
  {
   "cell_type": "markdown",
   "id": "11342613",
   "metadata": {},
   "source": [
    "<div class=\"alert alert-block alert-success\">\n",
    "<b>Comentario del revisor</b> <a class=\"tocSkip\"></a>\n",
    "\n",
    "Muy buena esta sección. Los gráficos son muy claros y descriptivos. Muy bien al usar títulos y descripciones de los ejes.\n",
    "</div>\n",
    "\n"
   ]
  },
  {
   "cell_type": "markdown",
   "id": "tight-staff",
   "metadata": {
    "id": "tight-staff"
   },
   "source": [
    "# [B] Intermedio (deben completarse todos para aprobar)\n",
    "\n",
    "1. ¿Existe alguna diferencia entre las distribuciones `'order_hour_of_day'` de los miércoles y los sábados? Traza gráficos de barra de `'order_hour_of_day'` para ambos días en la misma figura y describe las diferencias que observes.\n",
    "2. Grafica la distribución para el número de órdenes que hacen los clientes (es decir, cuántos clientes hicieron solo 1 pedido, cuántos hicieron 2, cuántos 3, y así sucesivamente...).\n",
    "3. ¿Cuáles son los 20 principales productos que se piden con más frecuencia (muestra su identificación y nombre)?"
   ]
  },
  {
   "cell_type": "markdown",
   "id": "packed-classic",
   "metadata": {
    "id": "packed-classic"
   },
   "source": [
    "### [B1] Diferencia entre miércoles y sábados para  `'order_hour_of_day'`. Traza gráficos de barra para los dos días y describe las diferencias que veas."
   ]
  },
  {
   "cell_type": "code",
   "execution_count": 40,
   "id": "d89b8403",
   "metadata": {
    "id": "d89b8403"
   },
   "outputs": [
    {
     "data": {
      "image/png": "[encoded data removed]",
      "text/plain": [
       "<Figure size 640x480 with 1 Axes>"
      ]
     },
     "metadata": {},
     "output_type": "display_data"
    }
   ],
   "source": [
    "df_miercoles = df_instacart_orders[df_instacart_orders['order_dow'] == 3]\n",
    "df_sabado = df_instacart_orders[df_instacart_orders['order_dow'] == 6]\n",
    "df_miercoles_plot = df_miercoles.groupby('order_hour_of_day').size().reset_index(name='num_personas')\n",
    "df_sabado_plot = df_sabado.groupby('order_hour_of_day').size().reset_index(name='num_personas')\n",
    "plt.bar(df_miercoles_plot['order_hour_of_day'], df_miercoles_plot['num_personas'], label='Miércoles')\n",
    "plt.bar(df_sabado_plot['order_hour_of_day'], df_sabado_plot['num_personas'], label='Sábado')\n",
    "plt.xlabel('Hora del día')\n",
    "plt.ylabel('Número de personas')\n",
    "plt.legend()\n",
    "alpha=0.1\n",
    "plt.show()"
   ]
  },
  {
   "cell_type": "markdown",
   "id": "cb5768a8",
   "metadata": {
    "id": "94e54e8a"
   },
   "source": [
    "<div class=\"alert alert-block alert-success\">\n",
    "<b>Comentario del revisor</b> <a class=\"tocSkip\"></a>\n",
    "\n",
    "Está muy bien la comparación de ambos días en general. De nuevo, la visualización es muy clara.\n",
    "</div>\n",
    "\n"
   ]
  },
  {
   "cell_type": "code",
   "execution_count": null,
   "id": "797c90a8",
   "metadata": {
    "id": "797c90a8"
   },
   "outputs": [],
   "source": []
  },
  {
   "cell_type": "code",
   "execution_count": 176,
   "id": "35bcea30",
   "metadata": {
    "id": "35bcea30"
   },
   "outputs": [],
   "source": []
  },
  {
   "cell_type": "markdown",
   "id": "charitable-congo",
   "metadata": {
    "id": "charitable-congo"
   },
   "source": [
    "Escribe aquí tus conclusiones\n",
    "\n",
    "En general la hora de la compra es muy similar en los dos días pudiendose observar que el miércoles empiezan a poner ordenes más gente más temprano pero también hay un poco más de ordenes más tarde en comparación con el sábado."
   ]
  },
  {
   "cell_type": "markdown",
   "id": "e3891143",
   "metadata": {
    "id": "e3891143"
   },
   "source": [
    "### [B2] ¿Cuál es la distribución para el número de pedidos por cliente?"
   ]
  },
  {
   "cell_type": "code",
   "execution_count": 41,
   "id": "d8c26c23",
   "metadata": {
    "id": "d8c26c23"
   },
   "outputs": [
    {
     "data": {
      "image/png": "[encoded data removed]",
      "text/plain": [
       "<Figure size 640x480 with 1 Axes>"
      ]
     },
     "metadata": {},
     "output_type": "display_data"
    }
   ],
   "source": [
    "#Grafica la distribución para el número de órdenes que hacen los clientes (es decir, cuántos clientes hicieron\n",
    "#solo 1 pedido, cuántos hicieron 2, cuántos 3, y así sucesivamente\n",
    "df_personas_vs_orden = df_instacart_orders.groupby('order_number').size().reset_index(name='num_personas')\n",
    "df_personas_vs_orden.plot(kind='hist', x='order_number', y='num_personas', bins=30, title='Distribución del número de órdenes por cliente')\n",
    "plt.xlabel('Número de órdenes')\n",
    "plt.ylabel('Número de clientes')\n",
    "plt.show()"
   ]
  },
  {
   "cell_type": "code",
   "execution_count": null,
   "id": "00e69a66",
   "metadata": {
    "id": "00e69a66"
   },
   "outputs": [],
   "source": []
  },
  {
   "cell_type": "markdown",
   "id": "d2eff7d5",
   "metadata": {
    "id": "d2eff7d5"
   },
   "source": [
    "Escribe aquí tus conclusiones\n",
    "Podemos ver que la mayoría de las personas hicieron menos de 1000 pedidos y muy pocas hicieron más de 10000, un grupo pequeño puso casi 30000."
   ]
  },
  {
   "cell_type": "markdown",
   "id": "54a0319c",
   "metadata": {
    "id": "54a0319c"
   },
   "source": [
    "### [B3] ¿Cuáles son los 20 productos más populares (muestra su ID y nombre)?"
   ]
  },
  {
   "cell_type": "code",
   "execution_count": 42,
   "id": "exterior-arizona",
   "metadata": {
    "id": "exterior-arizona",
    "scrolled": true
   },
   "outputs": [],
   "source": [
    "df_productos_mas_populares = df_order_products.groupby('product_id')['product_id'].count().reset_index(name='count')\n",
    "df_productos_mas_populares = df_productos_mas_populares.sort_values(by='count', ascending=False).head(20)"
   ]
  },
  {
   "cell_type": "code",
   "execution_count": 78,
   "id": "universal-facial",
   "metadata": {
    "id": "universal-facial"
   },
   "outputs": [],
   "source": [
    "df_productos_mas_populares = pd.merge(df_productos_mas_populares, df_products[['product_id', 'product_name']], on='product_id', how='left')\n",
    "#aquí quise crear una nueva columna con los valores en que más se repetía el product_id en los pedidos:\n",
    "df_productos_mas_populares['count_product_id'] = df_productos_mas_populares['count']"
   ]
  },
  {
   "cell_type": "code",
   "execution_count": 79,
   "id": "bbcdd20b",
   "metadata": {
    "id": "bbcdd20b"
   },
   "outputs": [
    {
     "name": "stdout",
     "output_type": "stream",
     "text": [
      "    product_id  count            product_name_x            product_name_y  \\\n",
      "0        24852  66050                    BANANA                    BANANA   \n",
      "1        13176  53297    BAG OF ORGANIC BANANAS    BAG OF ORGANIC BANANAS   \n",
      "2        21137  37039      ORGANIC STRAWBERRIES      ORGANIC STRAWBERRIES   \n",
      "3        21903  33971      ORGANIC BABY SPINACH      ORGANIC BABY SPINACH   \n",
      "4        47209  29773      ORGANIC HASS AVOCADO      ORGANIC HASS AVOCADO   \n",
      "5        47766  24689           ORGANIC AVOCADO           ORGANIC AVOCADO   \n",
      "6        47626  21495               LARGE LEMON               LARGE LEMON   \n",
      "7        16797  20018              STRAWBERRIES              STRAWBERRIES   \n",
      "8        26209  19690                     LIMES                     LIMES   \n",
      "9        27845  19600        ORGANIC WHOLE MILK        ORGANIC WHOLE MILK   \n",
      "10       27966  19197       ORGANIC RASPBERRIES       ORGANIC RASPBERRIES   \n",
      "11       22935  15898      ORGANIC YELLOW ONION      ORGANIC YELLOW ONION   \n",
      "12       24964  15292            ORGANIC GARLIC            ORGANIC GARLIC   \n",
      "13       45007  14584          ORGANIC ZUCCHINI          ORGANIC ZUCCHINI   \n",
      "14       39275  13879       ORGANIC BLUEBERRIES       ORGANIC BLUEBERRIES   \n",
      "15       49683  13675            CUCUMBER KIRBY            CUCUMBER KIRBY   \n",
      "16       28204  12544        ORGANIC FUJI APPLE        ORGANIC FUJI APPLE   \n",
      "17        5876  12232             ORGANIC LEMON             ORGANIC LEMON   \n",
      "18        8277  11993  APPLE HONEYCRISP ORGANIC  APPLE HONEYCRISP ORGANIC   \n",
      "19       40706  11781    ORGANIC GRAPE TOMATOES    ORGANIC GRAPE TOMATOES   \n",
      "\n",
      "    count_product_id  \n",
      "0              66050  \n",
      "1              53297  \n",
      "2              37039  \n",
      "3              33971  \n",
      "4              29773  \n",
      "5              24689  \n",
      "6              21495  \n",
      "7              20018  \n",
      "8              19690  \n",
      "9              19600  \n",
      "10             19197  \n",
      "11             15898  \n",
      "12             15292  \n",
      "13             14584  \n",
      "14             13879  \n",
      "15             13675  \n",
      "16             12544  \n",
      "17             12232  \n",
      "18             11993  \n",
      "19             11781  \n"
     ]
    }
   ],
   "source": [
    "print(df_productos_mas_populares)"
   ]
  },
  {
   "cell_type": "markdown",
   "id": "b6c940a5",
   "metadata": {},
   "source": [
    "<div class=\"alert alert-block alert-success\">\n",
    "<b>Comentario del revisor</b> <a class=\"tocSkip\"></a>\n",
    "\n",
    "Excelente trabajo!La lista del TOP 20 es muy completa, has logrado no solo mostrar cuáles son los productos, sino resumir la cantidad de órdenes de cada producto de manera muy clara.\n",
    "</div>\n"
   ]
  },
  {
   "cell_type": "markdown",
   "id": "7df00f47",
   "metadata": {
    "id": "7df00f47"
   },
   "source": [
    "Escribe aquí tus conclusiones\n",
    "\n",
    "Vemos que todos los productos más populares son del departamento de frutas, y adicional solo la leche esta incluida en estos 20 productos más populares."
   ]
  },
  {
   "cell_type": "markdown",
   "id": "gross-theme",
   "metadata": {
    "id": "gross-theme"
   },
   "source": [
    "# [C] Difícil (deben completarse todos para aprobar)\n",
    "\n",
    "1. ¿Cuántos artículos suelen comprar las personas en un pedido? ¿Cómo es la distribución?\n",
    "2. ¿Cuáles son los 20 principales artículos que vuelven a pedirse con mayor frecuencia (muestra sus nombres e IDs de los productos)?\n",
    "3. Para cada producto, ¿cuál es la tasa de repetición del pedido (número de repeticiones de pedido/total de pedidos?\n",
    "4. Para cada cliente, ¿qué proporción de los productos que pidió ya los había pedido? Calcula la tasa de repetición de pedido para cada usuario en lugar de para cada producto.\n",
    "5. ¿Cuáles son los 20 principales artículos que la gente pone primero en sus carritos (muestra las IDs de los productos, sus nombres, y el número de veces en que fueron el primer artículo en añadirse al carrito)?"
   ]
  },
  {
   "cell_type": "markdown",
   "id": "romantic-deposit",
   "metadata": {
    "id": "romantic-deposit"
   },
   "source": [
    "### [C1] ¿Cuántos artículos compran normalmente las personas en un pedido? ¿Cómo es la distribución?"
   ]
  },
  {
   "cell_type": "code",
   "execution_count": 45,
   "id": "virtual-punch",
   "metadata": {
    "id": "virtual-punch"
   },
   "outputs": [
    {
     "data": {
      "text/plain": [
       "8.533887406554049"
      ]
     },
     "execution_count": 45,
     "metadata": {},
     "output_type": "execute_result"
    }
   ],
   "source": [
    "df_order_products['add_to_cart_order'].mean()"
   ]
  },
  {
   "cell_type": "code",
   "execution_count": 22,
   "id": "sensitive-breathing",
   "metadata": {
    "id": "sensitive-breathing"
   },
   "outputs": [
    {
     "data": {
      "text/plain": [
       "Text(0.5, 1.0, 'Distribución de \"add_to_cart_order\"')"
      ]
     },
     "execution_count": 22,
     "metadata": {},
     "output_type": "execute_result"
    },
    {
     "data": {
      "image/png": "[encoded data removed]",
      "text/plain": [
       "<Figure size 640x480 with 1 Axes>"
      ]
     },
     "metadata": {},
     "output_type": "display_data"
    }
   ],
   "source": [
    "df_order_products['add_to_cart_order'].plot(kind='hist', bins=20)\n",
    "plt.xlabel('Productos en el en el carrito')\n",
    "plt.ylabel('Frecuencia de num de productos agregados')\n",
    "plt.title('Distribución de \"add_to_cart_order\"')"
   ]
  },
  {
   "cell_type": "markdown",
   "id": "ad5d6dc6",
   "metadata": {
    "id": "completed-frank"
   },
   "source": [
    "<div class=\"alert alert-block alert-danger\">\n",
    "<b>Comentario del revisor</b> <a class=\"tocSkip\"></a>\n",
    "\n",
    "Este histograma no nos brinda nada de info, quizás aumentando la cantidad de `bins` mejora un poco. Si no, deberíasas revisar más a fondo el código.\n",
    "</div>\n"
   ]
  },
  {
   "cell_type": "markdown",
   "id": "designed-mortality",
   "metadata": {
    "id": "designed-mortality"
   },
   "source": [
    "Escribe aquí tus conclusiones\n",
    "\n",
    "Aumente el numero de bins a 20 para tener una visualización más amplia y agregue los nombres a los ejes para poder entender mejor los datos además del nombre del gráfico."
   ]
  },
  {
   "cell_type": "markdown",
   "id": "60587cbd",
   "metadata": {},
   "source": [
    "<div class=\"alert alert-block alert-success\">\n",
    "<b>Comentario del revisor</b> <a class=\"tocSkip\"></a>\n",
    "\n",
    "Bien corregido! Se que puede ser un poco engorroso y hasta frustrante, pero son estas pequeñas cosas que le dan un toque extra de profesionalismo a tu trabajo que siempre se agradece!</div>\n",
    "\n"
   ]
  },
  {
   "cell_type": "markdown",
   "id": "5e6b5537",
   "metadata": {
    "id": "5e6b5537"
   },
   "source": [
    "### [C2] ¿Cuáles son los 20 principales artículos que vuelven a pedirse con mayor frecuencia (muestra sus nombres e IDs de los productos)?"
   ]
  },
  {
   "cell_type": "code",
   "execution_count": 47,
   "id": "9374e55a",
   "metadata": {
    "id": "9374e55a"
   },
   "outputs": [],
   "source": [
    "df_productos_mas_populares_porfrec = df_order_products.groupby('product_id')['reordered'].sum().sort_values(ascending=False).head(20)"
   ]
  },
  {
   "cell_type": "code",
   "execution_count": 48,
   "id": "possible-change",
   "metadata": {
    "id": "possible-change",
    "scrolled": true
   },
   "outputs": [],
   "source": [
    "df_productos_mas_populares_porfrec = pd.merge(df_productos_mas_populares_porfrec, df_products[['product_id', 'product_name']], on='product_id', how='left')"
   ]
  },
  {
   "cell_type": "code",
   "execution_count": 49,
   "id": "professional-surfing",
   "metadata": {
    "id": "professional-surfing",
    "scrolled": true
   },
   "outputs": [
    {
     "name": "stdout",
     "output_type": "stream",
     "text": [
      "    product_id  reordered              product_name\n",
      "0        24852      55763                    BANANA\n",
      "1        13176      44450    BAG OF ORGANIC BANANAS\n",
      "2        21137      28639      ORGANIC STRAWBERRIES\n",
      "3        21903      26233      ORGANIC BABY SPINACH\n",
      "4        47209      23629      ORGANIC HASS AVOCADO\n",
      "5        47766      18743           ORGANIC AVOCADO\n",
      "6        27845      16251        ORGANIC WHOLE MILK\n",
      "7        47626      15044               LARGE LEMON\n",
      "8        27966      14748       ORGANIC RASPBERRIES\n",
      "9        16797      13945              STRAWBERRIES\n",
      "10       26209      13327                     LIMES\n",
      "11       22935      11145      ORGANIC YELLOW ONION\n",
      "12       24964      10411            ORGANIC GARLIC\n",
      "13       45007      10076          ORGANIC ZUCCHINI\n",
      "14       49683       9538            CUCUMBER KIRBY\n",
      "15       28204       8989        ORGANIC FUJI APPLE\n",
      "16        8277       8836  APPLE HONEYCRISP ORGANIC\n",
      "17       39275       8799       ORGANIC BLUEBERRIES\n",
      "18        5876       8412             ORGANIC LEMON\n",
      "19       49235       8389       ORGANIC HALF & HALF\n"
     ]
    }
   ],
   "source": [
    "print(df_productos_mas_populares_porfrec)"
   ]
  },
  {
   "cell_type": "code",
   "execution_count": null,
   "id": "48dd3658",
   "metadata": {
    "id": "48dd3658"
   },
   "outputs": [],
   "source": []
  },
  {
   "cell_type": "markdown",
   "id": "80e70c74",
   "metadata": {
    "id": "80e70c74"
   },
   "source": [
    "Escribe aquí tus conclusiones\n",
    "\n",
    "Podemos ver que los 20 productos que se vuelven a pedir con más frecuencia son también del departamento de frutas y verduras aunque con diversas variantes de los 20 que más se compran en promedio."
   ]
  },
  {
   "cell_type": "markdown",
   "id": "9d312b14",
   "metadata": {
    "id": "9d312b14"
   },
   "source": [
    "### [C3] Para cada producto, ¿cuál es la proporción de las veces que se pide y que se vuelve a pedir?"
   ]
  },
  {
   "cell_type": "code",
   "execution_count": 64,
   "id": "8ae9f4b1",
   "metadata": {
    "id": "8ae9f4b1"
   },
   "outputs": [],
   "source": [
    "df_tasa_conversion = df_order_products.groupby('product_id')['reordered'].sum() / df_order_products.groupby('product_id')['reordered'].count()"
   ]
  },
  {
   "cell_type": "code",
   "execution_count": 65,
   "id": "103e7fe1",
   "metadata": {
    "id": "103e7fe1"
   },
   "outputs": [],
   "source": [
    "df_tasa_conversion = pd.merge(df_tasa_conversion,df_products[['product_id', 'product_name']], on='product_id', how='left')"
   ]
  },
  {
   "cell_type": "code",
   "execution_count": 69,
   "id": "social-individual",
   "metadata": {
    "id": "social-individual"
   },
   "outputs": [
    {
     "name": "stdout",
     "output_type": "stream",
     "text": [
      "       product_id  reordered  \\\n",
      "29841       32541   0.500000   \n",
      "34618       37750   0.214286   \n",
      "28601       31185   0.333333   \n",
      "8349         9145   0.833333   \n",
      "21513       23458   0.571429   \n",
      "4121         4514   0.611940   \n",
      "33390       36398   0.800000   \n",
      "20749       22639   0.333333   \n",
      "26040       28373   0.694444   \n",
      "13029       14255   0.000000   \n",
      "\n",
      "                                            product_name  \n",
      "29841                                      PORK MARINADE  \n",
      "34618                                 SPECIAL DARK COCOA  \n",
      "28601                RED BEANS & RICE NEW ORLEANS RECIPE  \n",
      "8349                      FUSILLI BUCATI NO. 98 MACARONI  \n",
      "21513  CREAMY MILK CHOCOLATE WITH CRISPED RICE. CHOCO...  \n",
      "4121                REDUCED FAT COLBY-JACK CHEESE STICKS  \n",
      "33390                 DIET HALF & HALF LEMONADE/ICED TEA  \n",
      "20749                  GLUTEN FREE ORIGINAL 3 SEED BREAD  \n",
      "26040                        ORIGINAL ROTISSERIE CHICKEN  \n",
      "13029                           SOY GINGER ASIAN NOODLES  \n"
     ]
    }
   ],
   "source": [
    "print(df_tasa_conversion.sample(10))"
   ]
  },
  {
   "cell_type": "markdown",
   "id": "c50fd02c",
   "metadata": {},
   "source": [
    "<div class=\"alert alert-block alert-success\">\n",
    "<b>Comentario del revisor</b> <a class=\"tocSkip\"></a>\n",
    "\n",
    "Gran trabajo utilizando métricas tan complejas como lo son las proporciones. Bien hecho!</div>\n"
   ]
  },
  {
   "cell_type": "markdown",
   "id": "I10dEIAyldcO",
   "metadata": {
    "id": "I10dEIAyldcO"
   },
   "source": [
    "Escribe aquí tus conclusiones\n",
    "\n",
    "Con esta tabla \"df_tasa_conversion\" podemos ver la tasa de conversión de cada producto dandonos cuenta del porcentaje que se vuelve a pedir ese producto."
   ]
  },
  {
   "cell_type": "markdown",
   "id": "subject-boxing",
   "metadata": {
    "id": "subject-boxing"
   },
   "source": [
    "### [C4] Para cada cliente, ¿qué proporción de sus productos ya los había pedido?"
   ]
  },
  {
   "cell_type": "code",
   "execution_count": 73,
   "id": "medical-couple",
   "metadata": {
    "id": "medical-couple",
    "scrolled": true
   },
   "outputs": [],
   "source": [
    "df_tasa_conversion = pd.merge(df_instacart_orders, df_order_products, on='order_id', how='left')\n",
    "df_tasa_conversion = df_tasa_conversion.groupby('user_id')['reordered'].sum() / df_tasa_conversion.groupby('user_id')['reordered'].count()"
   ]
  },
  {
   "cell_type": "code",
   "execution_count": 72,
   "id": "8892e4b4",
   "metadata": {
    "id": "8892e4b4"
   },
   "outputs": [
    {
     "name": "stdout",
     "output_type": "stream",
     "text": [
      "user_id\n",
      "2         0.038462\n",
      "4         0.000000\n",
      "5         0.666667\n",
      "6         0.000000\n",
      "7         0.928571\n",
      "            ...   \n",
      "206203    0.222222\n",
      "206206    0.714286\n",
      "206207    0.891304\n",
      "206208    0.696000\n",
      "206209    0.320000\n",
      "Name: reordered, Length: 157437, dtype: float64\n"
     ]
    }
   ],
   "source": [
    "print(df_tasa_conversion)"
   ]
  },
  {
   "cell_type": "markdown",
   "id": "7503c0c9",
   "metadata": {},
   "source": [
    "<div class=\"alert alert-block alert-success\">\n",
    "<b>Comentario del revisor</b> <a class=\"tocSkip\"></a>\n",
    "\n",
    "Gran trabajo con las proporciones! Nuevamente, parecen una métrica más, pero son bastante difíciles de interpretar y mostrar con éxito a veces.</div>\n"
   ]
  },
  {
   "cell_type": "markdown",
   "id": "BgJSvXDsleXz",
   "metadata": {
    "id": "BgJSvXDsleXz"
   },
   "source": [
    "Escribe aquí tus conclusiones"
   ]
  },
  {
   "cell_type": "markdown",
   "id": "92d35137",
   "metadata": {
    "id": "92d35137"
   },
   "source": [
    "### [C5] ¿Cuáles son los 20 principales artículos que las personas ponen primero en sus carritos?"
   ]
  },
  {
   "cell_type": "code",
   "execution_count": 85,
   "id": "0ae57274",
   "metadata": {
    "id": "0ae57274",
    "scrolled": true
   },
   "outputs": [],
   "source": [
    "df_princip_articulos_en_carrito = pd.merge(df_order_products,df_productos_mas_populares, on='product_id', how='left')"
   ]
  },
  {
   "cell_type": "code",
   "execution_count": 86,
   "id": "forty-netherlands",
   "metadata": {
    "id": "forty-netherlands",
    "scrolled": true
   },
   "outputs": [],
   "source": [
    "df_princip_articulos_en_carrito = df_princip_articulos_en_carrito[df_princip_articulos_en_carrito['add_to_cart_order'] == 1].groupby('product_id')['add_to_cart_order'].count().sort_values(ascending=False).head(20)"
   ]
  },
  {
   "cell_type": "code",
   "execution_count": 87,
   "id": "08e41ec2",
   "metadata": {
    "id": "08e41ec2"
   },
   "outputs": [
    {
     "name": "stdout",
     "output_type": "stream",
     "text": [
      "    product_id  add_to_cart_order                 product_name\n",
      "0        24852              15562                       BANANA\n",
      "1        13176              11026       BAG OF ORGANIC BANANAS\n",
      "2        27845               4363           ORGANIC WHOLE MILK\n",
      "3        21137               3946         ORGANIC STRAWBERRIES\n",
      "4        47209               3390         ORGANIC HASS AVOCADO\n",
      "5        21903               3336         ORGANIC BABY SPINACH\n",
      "6        47766               3044              ORGANIC AVOCADO\n",
      "7        19660               2336                 SPRING WATER\n",
      "8        16797               2308                 STRAWBERRIES\n",
      "9        27966               2024          ORGANIC RASPBERRIES\n",
      "10       44632               1914   SPARKLING WATER GRAPEFRUIT\n",
      "11       49235               1797          ORGANIC HALF & HALF\n",
      "12       47626               1737                  LARGE LEMON\n",
      "13         196               1733                         SODA\n",
      "14       38689               1397     ORGANIC REDUCED FAT MILK\n",
      "15       26209               1370                        LIMES\n",
      "16       12341               1340                HASS AVOCADOS\n",
      "17        5785               1310  ORGANIC REDUCED FAT 2% MILK\n",
      "18       27086               1309                  HALF & HALF\n",
      "19       43352               1246                  RASPBERRIES\n"
     ]
    }
   ],
   "source": [
    "df_princip_articulos_en_carrito = pd.merge(df_princip_articulos_en_carrito, df_products[['product_id', 'product_name']], on='product_id', how='left')\n",
    "print(df_princip_articulos_en_carrito)"
   ]
  },
  {
   "cell_type": "markdown",
   "id": "28ce9872",
   "metadata": {
    "id": "28ce9872"
   },
   "source": [
    "Escribe aquí tus conclusiones\n",
    "\n",
    "De los productos más vendidos obtuvimos la suma de cada unos de los productos que pusieron primero en su carrito, así podemos ver que primero fueron los platanos; normales y luego orgánicos y luego la leche."
   ]
  },
  {
   "cell_type": "markdown",
   "id": "uITbFCEoDosC",
   "metadata": {
    "id": "uITbFCEoDosC"
   },
   "source": [
    "### Conclusion general del proyecto:"
   ]
  },
  {
   "cell_type": "code",
   "execution_count": null,
   "id": "Nk-4GS7mDwqY",
   "metadata": {
    "id": "Nk-4GS7mDwqY"
   },
   "outputs": [],
   "source": [
    "A pesar de que se veía al principio información muy vaga y sin conexión pudimos obtener valisos datos de las tablas y quedaron funcionales para seguir sacando más información.\n",
    "Por ejemplo, obtuvimos la información de los productos más vendidos aunque no venía ese dato originalmente, los productos que más se vuelven a pedir, información de cuando se hacen más pedidos o cuanto es lo que se pide, etc.\n",
    "Lo ideal sería poder obtener más información de la tienda para poder hacer más grande este reporte, por ejemplo datos de precios o costos serían muy útiles."
   ]
  },
  {
   "cell_type": "markdown",
   "id": "eeac2662",
   "metadata": {},
   "source": [
    "\n",
    "<div class=\"alert alert-block alert-success\">\n",
    "<b>Comentario del revisor</b> <a class=\"tocSkip\"></a>\n",
    "\n",
    "Realmente tus conclusiones demuestran tu expertise en el tema, te felicito por haberte esforzado tanto en este sprint. Excelente trabajo!</div>\n",
    "\n",
    "\n",
    "\n"
   ]
  }
 ],
 "metadata": {
  "ExecuteTimeLog": [
   {
    "duration": 2347,
    "start_time": "2024-10-16T17:44:38.740Z"
   },
   {
    "duration": 3,
    "start_time": "2024-10-16T17:44:44.748Z"
   },
   {
    "duration": 3,
    "start_time": "2024-10-16T17:44:48.777Z"
   },
   {
    "duration": 231,
    "start_time": "2024-10-16T17:56:19.424Z"
   },
   {
    "duration": 7,
    "start_time": "2024-10-16T17:56:29.529Z"
   },
   {
    "duration": 1043,
    "start_time": "2024-10-16T17:58:18.009Z"
   },
   {
    "duration": 12,
    "start_time": "2024-10-16T17:58:22.082Z"
   },
   {
    "duration": 11,
    "start_time": "2024-10-16T17:59:02.039Z"
   },
   {
    "duration": 8,
    "start_time": "2024-10-16T17:59:26.934Z"
   },
   {
    "duration": 9,
    "start_time": "2024-10-16T17:59:47.252Z"
   },
   {
    "duration": 25,
    "start_time": "2024-10-16T18:01:08.043Z"
   },
   {
    "duration": 14,
    "start_time": "2024-10-16T19:17:53.304Z"
   },
   {
    "duration": 457,
    "start_time": "2024-10-16T19:18:36.105Z"
   },
   {
    "duration": 42,
    "start_time": "2024-10-16T19:19:18.163Z"
   },
   {
    "duration": 2,
    "start_time": "2024-10-16T19:19:45.945Z"
   },
   {
    "duration": 13,
    "start_time": "2024-10-16T19:41:58.953Z"
   },
   {
    "duration": 12,
    "start_time": "2024-10-16T19:42:25.389Z"
   },
   {
    "duration": 12,
    "start_time": "2024-10-16T19:42:40.824Z"
   },
   {
    "duration": 101,
    "start_time": "2024-10-16T19:43:10.641Z"
   },
   {
    "duration": 99,
    "start_time": "2024-10-16T19:43:33.246Z"
   },
   {
    "duration": 98,
    "start_time": "2024-10-16T19:43:48.844Z"
   },
   {
    "duration": 21,
    "start_time": "2024-10-16T19:48:32.642Z"
   },
   {
    "duration": 97,
    "start_time": "2024-10-16T19:48:49.434Z"
   },
   {
    "duration": 96,
    "start_time": "2024-10-16T19:50:27.272Z"
   },
   {
    "duration": 4,
    "start_time": "2024-10-16T19:55:34.211Z"
   },
   {
    "duration": 4,
    "start_time": "2024-10-16T22:44:54.796Z"
   },
   {
    "duration": 39,
    "start_time": "2024-10-16T22:46:01.052Z"
   },
   {
    "duration": 32,
    "start_time": "2024-10-16T22:46:26.002Z"
   },
   {
    "duration": 11,
    "start_time": "2024-10-16T23:37:45.771Z"
   },
   {
    "duration": 4,
    "start_time": "2024-10-16T23:43:03.015Z"
   },
   {
    "duration": 3,
    "start_time": "2024-10-16T23:43:23.664Z"
   },
   {
    "duration": 15,
    "start_time": "2024-10-16T23:44:33.336Z"
   },
   {
    "duration": 10,
    "start_time": "2024-10-16T23:44:45.912Z"
   },
   {
    "duration": 10,
    "start_time": "2024-10-16T23:45:09.311Z"
   },
   {
    "duration": 13,
    "start_time": "2024-10-16T23:45:29.282Z"
   },
   {
    "duration": 13,
    "start_time": "2024-10-16T23:48:50.158Z"
   },
   {
    "duration": 30,
    "start_time": "2024-10-16T23:59:51.215Z"
   },
   {
    "duration": 17,
    "start_time": "2024-10-17T00:13:06.608Z"
   },
   {
    "duration": 12,
    "start_time": "2024-10-17T00:13:23.641Z"
   },
   {
    "duration": 8,
    "start_time": "2024-10-17T00:13:34.083Z"
   },
   {
    "duration": 6,
    "start_time": "2024-10-17T00:13:59.819Z"
   },
   {
    "duration": 9,
    "start_time": "2024-10-17T00:15:08.404Z"
   },
   {
    "duration": 10,
    "start_time": "2024-10-17T00:52:42.200Z"
   },
   {
    "duration": 8,
    "start_time": "2024-10-17T00:52:56.727Z"
   },
   {
    "duration": 11,
    "start_time": "2024-10-17T00:53:13.506Z"
   },
   {
    "duration": 4,
    "start_time": "2024-10-17T00:53:50.538Z"
   },
   {
    "duration": 3,
    "start_time": "2024-10-17T00:53:54.225Z"
   },
   {
    "duration": 9,
    "start_time": "2024-10-17T00:54:02.076Z"
   },
   {
    "duration": 6,
    "start_time": "2024-10-17T00:57:29.236Z"
   },
   {
    "duration": 8,
    "start_time": "2024-10-17T00:58:16.409Z"
   },
   {
    "duration": 3,
    "start_time": "2024-10-17T00:58:20.902Z"
   },
   {
    "duration": 3,
    "start_time": "2024-10-17T00:58:47.894Z"
   },
   {
    "duration": 3,
    "start_time": "2024-10-17T01:00:42.146Z"
   },
   {
    "duration": 14,
    "start_time": "2024-10-17T01:00:54.823Z"
   },
   {
    "duration": 12,
    "start_time": "2024-10-17T01:01:17.401Z"
   },
   {
    "duration": 163,
    "start_time": "2024-10-17T03:22:59.894Z"
   },
   {
    "duration": 13,
    "start_time": "2024-10-17T03:23:08.189Z"
   },
   {
    "duration": 12,
    "start_time": "2024-10-17T03:24:07.514Z"
   },
   {
    "duration": 14,
    "start_time": "2024-10-17T03:24:24.407Z"
   },
   {
    "duration": 2127,
    "start_time": "2024-10-17T03:24:29.078Z"
   },
   {
    "duration": 2,
    "start_time": "2024-10-17T03:24:31.921Z"
   },
   {
    "duration": 3,
    "start_time": "2024-10-17T03:24:32.636Z"
   },
   {
    "duration": 1035,
    "start_time": "2024-10-17T03:24:35.380Z"
   },
   {
    "duration": 12,
    "start_time": "2024-10-17T03:24:42.262Z"
   },
   {
    "duration": 9,
    "start_time": "2024-10-17T03:24:45.605Z"
   },
   {
    "duration": 8,
    "start_time": "2024-10-17T03:24:49.670Z"
   },
   {
    "duration": 24,
    "start_time": "2024-10-17T03:24:54.589Z"
   },
   {
    "duration": 87,
    "start_time": "2024-10-17T03:24:59.911Z"
   },
   {
    "duration": 12,
    "start_time": "2024-10-17T03:25:04.849Z"
   },
   {
    "duration": 10,
    "start_time": "2024-10-17T03:25:58.801Z"
   },
   {
    "duration": 13,
    "start_time": "2024-10-17T03:26:21.176Z"
   },
   {
    "duration": 13,
    "start_time": "2024-10-17T03:27:13.100Z"
   },
   {
    "duration": 10,
    "start_time": "2024-10-17T03:27:30.528Z"
   },
   {
    "duration": 116,
    "start_time": "2024-10-17T03:31:51.848Z"
   },
   {
    "duration": 126,
    "start_time": "2024-10-17T03:32:13.406Z"
   },
   {
    "duration": 108,
    "start_time": "2024-10-17T03:32:32.563Z"
   },
   {
    "duration": 7,
    "start_time": "2024-10-17T03:33:02.477Z"
   },
   {
    "duration": 101,
    "start_time": "2024-10-17T03:33:14.776Z"
   },
   {
    "duration": 144,
    "start_time": "2024-10-17T03:33:27.853Z"
   },
   {
    "duration": 147,
    "start_time": "2024-10-17T03:43:26.083Z"
   },
   {
    "duration": 120,
    "start_time": "2024-10-17T03:44:23.160Z"
   },
   {
    "duration": 570,
    "start_time": "2024-10-17T03:45:02.861Z"
   },
   {
    "duration": 99,
    "start_time": "2024-10-17T03:45:22.203Z"
   },
   {
    "duration": 100,
    "start_time": "2024-10-17T03:45:33.081Z"
   },
   {
    "duration": 30,
    "start_time": "2024-10-17T03:46:36.154Z"
   },
   {
    "duration": 27,
    "start_time": "2024-10-17T03:49:11.457Z"
   },
   {
    "duration": 22,
    "start_time": "2024-10-17T03:56:29.254Z"
   },
   {
    "duration": 16,
    "start_time": "2024-10-17T03:56:35.956Z"
   },
   {
    "duration": 56,
    "start_time": "2024-10-17T03:57:43.219Z"
   },
   {
    "duration": 5,
    "start_time": "2024-10-17T03:58:55.341Z"
   },
   {
    "duration": 23,
    "start_time": "2024-10-17T04:05:54.384Z"
   },
   {
    "duration": 29,
    "start_time": "2024-10-17T04:06:06.608Z"
   },
   {
    "duration": 23,
    "start_time": "2024-10-17T04:07:01.525Z"
   },
   {
    "duration": 24,
    "start_time": "2024-10-17T04:07:29.182Z"
   },
   {
    "duration": 2114,
    "start_time": "2024-10-17T16:29:29.466Z"
   },
   {
    "duration": 986,
    "start_time": "2024-10-17T16:29:34.053Z"
   },
   {
    "duration": 11,
    "start_time": "2024-10-17T16:29:39.939Z"
   },
   {
    "duration": 10,
    "start_time": "2024-10-17T16:29:42.531Z"
   },
   {
    "duration": 8,
    "start_time": "2024-10-17T16:29:44.824Z"
   },
   {
    "duration": 8,
    "start_time": "2024-10-17T16:29:47.807Z"
   },
   {
    "duration": 8,
    "start_time": "2024-10-17T16:29:50.538Z"
   },
   {
    "duration": 22,
    "start_time": "2024-10-17T16:29:54.747Z"
   },
   {
    "duration": 85,
    "start_time": "2024-10-17T16:30:01.447Z"
   },
   {
    "duration": 88,
    "start_time": "2024-10-17T16:30:09.863Z"
   },
   {
    "duration": 82,
    "start_time": "2024-10-17T16:30:15.387Z"
   },
   {
    "duration": 82,
    "start_time": "2024-10-17T16:30:18.761Z"
   },
   {
    "duration": 83,
    "start_time": "2024-10-17T16:30:26.343Z"
   },
   {
    "duration": 87,
    "start_time": "2024-10-17T16:30:34.291Z"
   },
   {
    "duration": 94,
    "start_time": "2024-10-17T16:30:37.528Z"
   },
   {
    "duration": 86,
    "start_time": "2024-10-17T16:30:40.864Z"
   },
   {
    "duration": 33,
    "start_time": "2024-10-17T16:30:43.619Z"
   },
   {
    "duration": 12,
    "start_time": "2024-10-17T16:30:56.070Z"
   },
   {
    "duration": 4,
    "start_time": "2024-10-17T16:30:58.699Z"
   },
   {
    "duration": 30,
    "start_time": "2024-10-17T16:31:08.762Z"
   },
   {
    "duration": 14,
    "start_time": "2024-10-17T16:49:04.851Z"
   },
   {
    "duration": 12,
    "start_time": "2024-10-17T16:49:39.100Z"
   },
   {
    "duration": 4,
    "start_time": "2024-10-17T16:49:50.398Z"
   },
   {
    "duration": 7,
    "start_time": "2024-10-17T16:55:41.187Z"
   },
   {
    "duration": 6,
    "start_time": "2024-10-17T16:55:56.474Z"
   },
   {
    "duration": 218,
    "start_time": "2024-10-17T16:56:19.460Z"
   },
   {
    "duration": 6,
    "start_time": "2024-10-17T16:56:30.377Z"
   },
   {
    "duration": 10,
    "start_time": "2024-10-17T17:00:10.158Z"
   },
   {
    "duration": 5,
    "start_time": "2024-10-17T17:20:15.188Z"
   },
   {
    "duration": 20,
    "start_time": "2024-10-17T17:21:06.238Z"
   },
   {
    "duration": 4,
    "start_time": "2024-10-17T17:21:17.971Z"
   },
   {
    "duration": 5,
    "start_time": "2024-10-17T17:22:33.652Z"
   },
   {
    "duration": 409,
    "start_time": "2024-10-17T17:23:13.706Z"
   },
   {
    "duration": 39,
    "start_time": "2024-10-17T17:23:20.770Z"
   },
   {
    "duration": 4,
    "start_time": "2024-10-17T17:23:51.989Z"
   },
   {
    "duration": 13,
    "start_time": "2024-10-17T17:25:00.648Z"
   },
   {
    "duration": 714,
    "start_time": "2024-10-17T17:25:15.463Z"
   },
   {
    "duration": 6,
    "start_time": "2024-10-17T17:55:40.360Z"
   },
   {
    "duration": 64,
    "start_time": "2024-10-17T17:55:49.122Z"
   },
   {
    "duration": 743,
    "start_time": "2024-10-17T17:56:37.993Z"
   },
   {
    "duration": 729,
    "start_time": "2024-10-17T17:56:50.542Z"
   },
   {
    "duration": 158,
    "start_time": "2024-10-17T17:58:36.436Z"
   },
   {
    "duration": 38,
    "start_time": "2024-10-17T17:58:46.670Z"
   },
   {
    "duration": 653,
    "start_time": "2024-10-17T18:15:59.606Z"
   },
   {
    "duration": 8,
    "start_time": "2024-10-17T18:37:50.026Z"
   },
   {
    "duration": 6,
    "start_time": "2024-10-17T18:40:07.123Z"
   },
   {
    "duration": 11,
    "start_time": "2024-10-17T18:54:11.245Z"
   },
   {
    "duration": 129,
    "start_time": "2024-10-17T18:54:28.808Z"
   },
   {
    "duration": 33,
    "start_time": "2024-10-17T18:54:34.546Z"
   },
   {
    "duration": 10,
    "start_time": "2024-10-17T18:54:41.221Z"
   },
   {
    "duration": 7,
    "start_time": "2024-10-17T18:57:09.282Z"
   },
   {
    "duration": 15,
    "start_time": "2024-10-17T19:01:14.183Z"
   },
   {
    "duration": 11,
    "start_time": "2024-10-17T19:01:36.613Z"
   },
   {
    "duration": 7,
    "start_time": "2024-10-17T19:03:10.972Z"
   },
   {
    "duration": 7,
    "start_time": "2024-10-17T19:03:22.656Z"
   },
   {
    "duration": 13,
    "start_time": "2024-10-17T19:20:16.281Z"
   },
   {
    "duration": 12,
    "start_time": "2024-10-17T19:20:45.354Z"
   },
   {
    "duration": 41,
    "start_time": "2024-10-17T19:20:51.909Z"
   },
   {
    "duration": 12,
    "start_time": "2024-10-17T19:22:08.427Z"
   },
   {
    "duration": 15,
    "start_time": "2024-10-17T19:22:59.438Z"
   },
   {
    "duration": 5,
    "start_time": "2024-10-17T19:24:08.120Z"
   },
   {
    "duration": 5,
    "start_time": "2024-10-17T19:25:01.165Z"
   },
   {
    "duration": 40,
    "start_time": "2024-10-17T19:26:14.878Z"
   },
   {
    "duration": 9,
    "start_time": "2024-10-17T19:26:25.385Z"
   },
   {
    "duration": 7,
    "start_time": "2024-10-17T19:29:22.437Z"
   },
   {
    "duration": 6,
    "start_time": "2024-10-17T19:30:06.906Z"
   },
   {
    "duration": 7,
    "start_time": "2024-10-17T19:33:21.964Z"
   },
   {
    "duration": 4,
    "start_time": "2024-10-17T19:48:26.488Z"
   },
   {
    "duration": 9,
    "start_time": "2024-10-17T19:49:09.788Z"
   },
   {
    "duration": 8,
    "start_time": "2024-10-17T19:49:18.025Z"
   },
   {
    "duration": 10,
    "start_time": "2024-10-17T19:49:35.295Z"
   },
   {
    "duration": 9,
    "start_time": "2024-10-17T19:50:13.822Z"
   },
   {
    "duration": 9,
    "start_time": "2024-10-17T19:50:36.585Z"
   },
   {
    "duration": 42,
    "start_time": "2024-10-17T19:51:04.666Z"
   },
   {
    "duration": 43,
    "start_time": "2024-10-17T19:51:10.579Z"
   },
   {
    "duration": 66,
    "start_time": "2024-10-17T19:51:21.889Z"
   },
   {
    "duration": 11,
    "start_time": "2024-10-17T19:53:38.237Z"
   },
   {
    "duration": 11,
    "start_time": "2024-10-17T20:01:53.688Z"
   },
   {
    "duration": 15,
    "start_time": "2024-10-17T20:02:01.538Z"
   },
   {
    "duration": 5,
    "start_time": "2024-10-17T20:04:20.013Z"
   },
   {
    "duration": 3,
    "start_time": "2024-10-17T20:05:04.104Z"
   },
   {
    "duration": 87,
    "start_time": "2024-10-17T20:08:22.677Z"
   },
   {
    "duration": 87,
    "start_time": "2024-10-17T20:10:35.454Z"
   },
   {
    "duration": 98,
    "start_time": "2024-10-17T20:10:43.589Z"
   },
   {
    "duration": 62,
    "start_time": "2024-10-17T20:13:15.069Z"
   },
   {
    "duration": 11,
    "start_time": "2024-10-17T20:32:56.046Z"
   },
   {
    "duration": 16,
    "start_time": "2024-10-17T20:33:02.563Z"
   },
   {
    "duration": 12,
    "start_time": "2024-10-17T20:34:53.693Z"
   },
   {
    "duration": 11,
    "start_time": "2024-10-17T20:35:02.229Z"
   },
   {
    "duration": 7,
    "start_time": "2024-10-17T20:35:08.249Z"
   },
   {
    "duration": 14,
    "start_time": "2024-10-17T20:37:33.463Z"
   },
   {
    "duration": 12,
    "start_time": "2024-10-17T20:54:22.076Z"
   },
   {
    "duration": 3,
    "start_time": "2024-10-17T22:30:15.343Z"
   },
   {
    "duration": 26,
    "start_time": "2024-10-17T22:30:23.544Z"
   },
   {
    "duration": 25,
    "start_time": "2024-10-17T22:30:27.844Z"
   },
   {
    "duration": 29,
    "start_time": "2024-10-17T22:30:44.013Z"
   },
   {
    "duration": 12,
    "start_time": "2024-10-17T22:40:32.545Z"
   },
   {
    "duration": 12,
    "start_time": "2024-10-17T22:40:56.507Z"
   },
   {
    "duration": 12,
    "start_time": "2024-10-17T22:41:06.033Z"
   },
   {
    "duration": 13,
    "start_time": "2024-10-17T22:41:31.295Z"
   },
   {
    "duration": 12,
    "start_time": "2024-10-17T22:41:46.962Z"
   },
   {
    "duration": 12,
    "start_time": "2024-10-17T22:42:04.275Z"
   },
   {
    "duration": 7,
    "start_time": "2024-10-17T22:42:51.328Z"
   },
   {
    "duration": 8,
    "start_time": "2024-10-17T22:43:23.586Z"
   },
   {
    "duration": 7,
    "start_time": "2024-10-17T22:46:28.788Z"
   },
   {
    "duration": 44,
    "start_time": "2024-10-17T22:58:25.589Z"
   },
   {
    "duration": 16,
    "start_time": "2024-10-17T22:58:31.467Z"
   },
   {
    "duration": 16,
    "start_time": "2024-10-17T22:58:33.018Z"
   },
   {
    "duration": 7,
    "start_time": "2024-10-17T22:58:36.812Z"
   },
   {
    "duration": 7,
    "start_time": "2024-10-17T23:26:07.044Z"
   },
   {
    "duration": 11,
    "start_time": "2024-10-17T23:54:23.015Z"
   },
   {
    "duration": 23,
    "start_time": "2024-10-18T00:05:17.293Z"
   },
   {
    "duration": 19,
    "start_time": "2024-10-18T00:09:06.085Z"
   },
   {
    "duration": 33,
    "start_time": "2024-10-18T00:37:34.586Z"
   },
   {
    "duration": 7,
    "start_time": "2024-10-18T00:46:37.008Z"
   },
   {
    "duration": 4,
    "start_time": "2024-10-18T00:52:34.703Z"
   },
   {
    "duration": 3,
    "start_time": "2024-10-18T00:53:28.225Z"
   },
   {
    "duration": 23,
    "start_time": "2024-10-18T00:54:33.037Z"
   },
   {
    "duration": 22,
    "start_time": "2024-10-18T00:55:11.521Z"
   },
   {
    "duration": 24,
    "start_time": "2024-10-18T00:55:35.660Z"
   },
   {
    "duration": 21,
    "start_time": "2024-10-18T00:55:55.384Z"
   },
   {
    "duration": 27,
    "start_time": "2024-10-18T00:56:07.183Z"
   },
   {
    "duration": 4,
    "start_time": "2024-10-18T00:57:30.680Z"
   },
   {
    "duration": 2,
    "start_time": "2024-10-18T00:57:37.547Z"
   },
   {
    "duration": 3,
    "start_time": "2024-10-18T00:58:13.488Z"
   },
   {
    "duration": 11,
    "start_time": "2024-10-18T00:58:48.509Z"
   },
   {
    "duration": 10,
    "start_time": "2024-10-18T00:59:04.776Z"
   },
   {
    "duration": 2,
    "start_time": "2024-10-18T00:59:42.524Z"
   },
   {
    "duration": 27,
    "start_time": "2024-10-18T01:00:56.664Z"
   },
   {
    "duration": 8,
    "start_time": "2024-10-18T01:02:24.971Z"
   },
   {
    "duration": 9,
    "start_time": "2024-10-18T01:02:30.895Z"
   },
   {
    "duration": 6,
    "start_time": "2024-10-18T01:02:35.173Z"
   },
   {
    "duration": 6,
    "start_time": "2024-10-18T01:02:39.540Z"
   },
   {
    "duration": 7,
    "start_time": "2024-10-18T01:02:43.891Z"
   },
   {
    "duration": 7,
    "start_time": "2024-10-18T01:02:49.032Z"
   },
   {
    "duration": 12,
    "start_time": "2024-10-18T01:02:53.550Z"
   },
   {
    "duration": 6,
    "start_time": "2024-10-18T01:02:57.649Z"
   },
   {
    "duration": 13,
    "start_time": "2024-10-18T01:03:00.791Z"
   },
   {
    "duration": 7,
    "start_time": "2024-10-18T01:03:07.020Z"
   },
   {
    "duration": 6,
    "start_time": "2024-10-18T01:03:10.741Z"
   },
   {
    "duration": 839,
    "start_time": "2024-10-18T01:03:24.246Z"
   },
   {
    "duration": 805,
    "start_time": "2024-10-18T01:03:28.954Z"
   },
   {
    "duration": 10,
    "start_time": "2024-10-18T01:03:34.161Z"
   },
   {
    "duration": 21,
    "start_time": "2024-10-18T01:03:46.133Z"
   },
   {
    "duration": 8,
    "start_time": "2024-10-18T01:05:15.583Z"
   },
   {
    "duration": 2,
    "start_time": "2024-10-18T01:05:15.593Z"
   },
   {
    "duration": 3,
    "start_time": "2024-10-18T01:05:19.781Z"
   },
   {
    "duration": 802,
    "start_time": "2024-10-18T01:05:22.942Z"
   },
   {
    "duration": 784,
    "start_time": "2024-10-18T01:05:26.064Z"
   },
   {
    "duration": 21,
    "start_time": "2024-10-18T01:05:35.467Z"
   },
   {
    "duration": 16,
    "start_time": "2024-10-18T01:05:59.684Z"
   },
   {
    "duration": 25,
    "start_time": "2024-10-18T01:06:03.700Z"
   },
   {
    "duration": 10,
    "start_time": "2024-10-18T01:06:09.116Z"
   },
   {
    "duration": 35,
    "start_time": "2024-10-18T01:06:16.555Z"
   },
   {
    "duration": 3,
    "start_time": "2024-10-18T01:06:32.490Z"
   },
   {
    "duration": 6,
    "start_time": "2024-10-18T01:06:46.144Z"
   },
   {
    "duration": 152,
    "start_time": "2024-10-18T01:10:29.113Z"
   },
   {
    "duration": 17,
    "start_time": "2024-10-18T01:11:55.678Z"
   },
   {
    "duration": 4,
    "start_time": "2024-10-18T01:25:37.966Z"
   },
   {
    "duration": 4,
    "start_time": "2024-10-18T01:25:42.536Z"
   },
   {
    "duration": 4,
    "start_time": "2024-10-18T01:28:37.483Z"
   },
   {
    "duration": 4,
    "start_time": "2024-10-18T01:28:58.246Z"
   },
   {
    "duration": 2,
    "start_time": "2024-10-18T01:36:48.682Z"
   },
   {
    "duration": 127,
    "start_time": "2024-10-18T01:53:46.040Z"
   },
   {
    "duration": 4,
    "start_time": "2024-10-18T01:56:15.843Z"
   },
   {
    "duration": 2,
    "start_time": "2024-10-18T01:56:26.293Z"
   },
   {
    "duration": 119,
    "start_time": "2024-10-18T02:10:27.431Z"
   },
   {
    "duration": 131,
    "start_time": "2024-10-18T02:16:05.351Z"
   },
   {
    "duration": 126,
    "start_time": "2024-10-18T02:16:20.277Z"
   },
   {
    "duration": 2,
    "start_time": "2024-10-18T03:02:09.608Z"
   },
   {
    "duration": 2,
    "start_time": "2024-10-18T03:02:15.796Z"
   },
   {
    "duration": 3,
    "start_time": "2024-10-18T03:02:16.792Z"
   },
   {
    "duration": 3,
    "start_time": "2024-10-18T03:02:17.560Z"
   },
   {
    "duration": 3,
    "start_time": "2024-10-18T03:02:38.617Z"
   },
   {
    "duration": 3,
    "start_time": "2024-10-18T03:02:39.348Z"
   },
   {
    "duration": 133,
    "start_time": "2024-10-18T03:03:37.005Z"
   },
   {
    "duration": 133,
    "start_time": "2024-10-18T03:04:04.570Z"
   },
   {
    "duration": 138,
    "start_time": "2024-10-18T03:04:37.561Z"
   },
   {
    "duration": 159,
    "start_time": "2024-10-18T03:05:28.300Z"
   },
   {
    "duration": 185,
    "start_time": "2024-10-18T03:39:01.939Z"
   },
   {
    "duration": 152,
    "start_time": "2024-10-18T03:51:24.030Z"
   },
   {
    "duration": 14,
    "start_time": "2024-10-18T03:55:04.029Z"
   },
   {
    "duration": 19,
    "start_time": "2024-10-18T03:55:24.526Z"
   },
   {
    "duration": 21,
    "start_time": "2024-10-18T03:56:21.145Z"
   },
   {
    "duration": 10,
    "start_time": "2024-10-18T17:22:41.329Z"
   },
   {
    "duration": 2157,
    "start_time": "2024-10-18T17:23:00.899Z"
   },
   {
    "duration": 1005,
    "start_time": "2024-10-18T17:23:04.114Z"
   },
   {
    "duration": 4,
    "start_time": "2024-10-18T17:23:07.702Z"
   },
   {
    "duration": 13,
    "start_time": "2024-10-18T17:23:11.691Z"
   },
   {
    "duration": 32,
    "start_time": "2024-10-18T17:23:39.216Z"
   },
   {
    "duration": 18,
    "start_time": "2024-10-18T17:25:57.305Z"
   },
   {
    "duration": 26,
    "start_time": "2024-10-18T17:34:10.732Z"
   },
   {
    "duration": 56,
    "start_time": "2024-10-18T17:34:57.614Z"
   },
   {
    "duration": 55,
    "start_time": "2024-10-18T17:35:45.420Z"
   },
   {
    "duration": 53,
    "start_time": "2024-10-18T17:36:02.119Z"
   },
   {
    "duration": 23,
    "start_time": "2024-10-18T17:37:15.523Z"
   },
   {
    "duration": 261,
    "start_time": "2024-10-18T17:38:43.576Z"
   },
   {
    "duration": 243,
    "start_time": "2024-10-18T17:54:16.830Z"
   },
   {
    "duration": 196,
    "start_time": "2024-10-18T17:54:29.355Z"
   },
   {
    "duration": 104,
    "start_time": "2024-10-18T18:17:48.601Z"
   },
   {
    "duration": 104,
    "start_time": "2024-10-18T18:18:13.718Z"
   },
   {
    "duration": 9,
    "start_time": "2024-10-18T18:18:30.955Z"
   },
   {
    "duration": 4,
    "start_time": "2024-10-18T18:18:44.247Z"
   },
   {
    "duration": 102,
    "start_time": "2024-10-18T18:20:32.602Z"
   },
   {
    "duration": 17,
    "start_time": "2024-10-18T18:41:18.924Z"
   },
   {
    "duration": 429,
    "start_time": "2024-10-18T19:10:11.457Z"
   },
   {
    "duration": 94,
    "start_time": "2024-10-18T19:24:05.364Z"
   },
   {
    "duration": 5,
    "start_time": "2024-10-18T19:24:21.430Z"
   },
   {
    "duration": 12,
    "start_time": "2024-10-18T19:24:41.500Z"
   },
   {
    "duration": 4,
    "start_time": "2024-10-18T19:25:03.783Z"
   },
   {
    "duration": 5,
    "start_time": "2024-10-18T19:49:38.973Z"
   },
   {
    "duration": 4,
    "start_time": "2024-10-18T20:01:27.878Z"
   },
   {
    "duration": 6,
    "start_time": "2024-10-18T20:03:35.346Z"
   },
   {
    "duration": 181,
    "start_time": "2024-10-18T20:04:25.950Z"
   },
   {
    "duration": 107,
    "start_time": "2024-10-18T20:04:45.307Z"
   },
   {
    "duration": 10,
    "start_time": "2024-10-18T20:04:51.933Z"
   },
   {
    "duration": 5,
    "start_time": "2024-10-18T20:04:56.992Z"
   },
   {
    "duration": 162,
    "start_time": "2024-10-18T22:20:41.247Z"
   },
   {
    "duration": 13,
    "start_time": "2024-10-18T22:21:30.752Z"
   },
   {
    "duration": 2192,
    "start_time": "2024-10-18T22:22:05.491Z"
   },
   {
    "duration": 1033,
    "start_time": "2024-10-18T22:22:08.032Z"
   },
   {
    "duration": 62,
    "start_time": "2024-10-18T22:22:12.508Z"
   },
   {
    "duration": 23,
    "start_time": "2024-10-18T22:22:16.213Z"
   },
   {
    "duration": 8,
    "start_time": "2024-10-18T22:22:19.525Z"
   },
   {
    "duration": 290,
    "start_time": "2024-10-18T22:22:22.956Z"
   },
   {
    "duration": 103,
    "start_time": "2024-10-18T22:22:28.140Z"
   },
   {
    "duration": 95,
    "start_time": "2024-10-18T22:22:32.258Z"
   },
   {
    "duration": 91,
    "start_time": "2024-10-18T22:22:36.889Z"
   },
   {
    "duration": 92,
    "start_time": "2024-10-18T22:22:42.743Z"
   },
   {
    "duration": 30,
    "start_time": "2024-10-18T22:22:49.241Z"
   },
   {
    "duration": 14,
    "start_time": "2024-10-18T22:22:53.683Z"
   },
   {
    "duration": 5,
    "start_time": "2024-10-18T22:22:56.208Z"
   },
   {
    "duration": 26,
    "start_time": "2024-10-18T22:23:00.667Z"
   },
   {
    "duration": 4,
    "start_time": "2024-10-18T22:23:05.993Z"
   },
   {
    "duration": 4,
    "start_time": "2024-10-18T22:23:08.410Z"
   },
   {
    "duration": 5,
    "start_time": "2024-10-18T22:23:11.188Z"
   },
   {
    "duration": 4,
    "start_time": "2024-10-18T22:23:13.497Z"
   },
   {
    "duration": 765,
    "start_time": "2024-10-18T22:23:16.138Z"
   },
   {
    "duration": 650,
    "start_time": "2024-10-18T22:23:20.463Z"
   },
   {
    "duration": 9,
    "start_time": "2024-10-18T22:23:24.660Z"
   },
   {
    "duration": 7,
    "start_time": "2024-10-18T22:23:40.064Z"
   },
   {
    "duration": 6,
    "start_time": "2024-10-18T22:23:44.902Z"
   },
   {
    "duration": 8,
    "start_time": "2024-10-18T22:23:50.898Z"
   },
   {
    "duration": 11,
    "start_time": "2024-10-18T22:23:57.953Z"
   },
   {
    "duration": 8,
    "start_time": "2024-10-18T22:24:02.932Z"
   },
   {
    "duration": 13,
    "start_time": "2024-10-18T22:24:05.403Z"
   },
   {
    "duration": 17,
    "start_time": "2024-10-18T22:24:09.508Z"
   },
   {
    "duration": 32,
    "start_time": "2024-10-18T22:24:13.537Z"
   },
   {
    "duration": 7,
    "start_time": "2024-10-18T22:24:16.452Z"
   },
   {
    "duration": 35,
    "start_time": "2024-10-18T22:24:22.340Z"
   },
   {
    "duration": 31,
    "start_time": "2024-10-18T22:24:35.901Z"
   },
   {
    "duration": 4,
    "start_time": "2024-10-18T22:24:40.905Z"
   },
   {
    "duration": 4,
    "start_time": "2024-10-18T22:24:44.722Z"
   },
   {
    "duration": 129,
    "start_time": "2024-10-18T22:24:49.874Z"
   },
   {
    "duration": 123,
    "start_time": "2024-10-18T22:24:53.948Z"
   },
   {
    "duration": 133,
    "start_time": "2024-10-18T22:25:00.908Z"
   },
   {
    "duration": 163,
    "start_time": "2024-10-18T22:25:06.847Z"
   },
   {
    "duration": 149,
    "start_time": "2024-10-18T22:25:12.730Z"
   },
   {
    "duration": 100,
    "start_time": "2024-10-18T22:25:19.083Z"
   },
   {
    "duration": 10,
    "start_time": "2024-10-18T22:25:25.088Z"
   },
   {
    "duration": 4,
    "start_time": "2024-10-18T22:25:27.956Z"
   },
   {
    "duration": 7,
    "start_time": "2024-10-18T22:25:32.526Z"
   },
   {
    "duration": 371,
    "start_time": "2024-10-18T22:25:35.433Z"
   },
   {
    "duration": 106,
    "start_time": "2024-10-18T22:25:42.159Z"
   },
   {
    "duration": 11,
    "start_time": "2024-10-18T22:25:46.798Z"
   },
   {
    "duration": 5,
    "start_time": "2024-10-18T22:25:51.828Z"
   },
   {
    "duration": 125,
    "start_time": "2024-10-18T22:26:02.063Z"
   },
   {
    "duration": 4,
    "start_time": "2024-10-18T22:26:22.189Z"
   },
   {
    "duration": 6,
    "start_time": "2024-10-18T22:26:30.603Z"
   },
   {
    "duration": 5,
    "start_time": "2024-10-18T22:27:20.313Z"
   },
   {
    "duration": 4,
    "start_time": "2024-10-18T22:27:31.052Z"
   },
   {
    "duration": 6,
    "start_time": "2024-10-18T22:27:37.614Z"
   },
   {
    "duration": 4,
    "start_time": "2024-10-18T22:27:54.487Z"
   },
   {
    "duration": 5,
    "start_time": "2024-10-18T22:27:57.597Z"
   },
   {
    "duration": 3,
    "start_time": "2024-10-18T22:28:29.416Z"
   },
   {
    "duration": 5,
    "start_time": "2024-10-18T22:28:37.438Z"
   },
   {
    "duration": 4,
    "start_time": "2024-10-18T22:28:47.234Z"
   },
   {
    "duration": 5,
    "start_time": "2024-10-18T22:28:50.058Z"
   },
   {
    "duration": 5,
    "start_time": "2024-10-18T22:43:35.740Z"
   },
   {
    "duration": 5,
    "start_time": "2024-10-18T22:44:08.681Z"
   },
   {
    "duration": 170,
    "start_time": "2024-10-18T22:44:44.724Z"
   },
   {
    "duration": 13,
    "start_time": "2024-10-18T22:51:51.639Z"
   },
   {
    "duration": 6,
    "start_time": "2024-10-18T22:52:02.387Z"
   },
   {
    "duration": 6,
    "start_time": "2024-10-18T22:52:55.737Z"
   },
   {
    "duration": 388,
    "start_time": "2024-10-18T23:21:22.712Z"
   },
   {
    "duration": 6,
    "start_time": "2024-10-18T23:21:34.401Z"
   },
   {
    "duration": 41,
    "start_time": "2024-10-18T23:21:43.110Z"
   },
   {
    "duration": 908,
    "start_time": "2024-10-18T23:22:11.885Z"
   },
   {
    "duration": 4,
    "start_time": "2024-10-18T23:22:23.567Z"
   },
   {
    "duration": 940,
    "start_time": "2024-10-18T23:22:28.769Z"
   },
   {
    "duration": 4,
    "start_time": "2024-10-19T01:10:23.328Z"
   },
   {
    "duration": 5,
    "start_time": "2024-10-19T01:10:31.489Z"
   },
   {
    "duration": 5,
    "start_time": "2024-10-19T01:10:32.575Z"
   },
   {
    "duration": 5,
    "start_time": "2024-10-19T01:10:48.680Z"
   },
   {
    "duration": 13,
    "start_time": "2024-10-19T01:12:40.547Z"
   },
   {
    "duration": 6,
    "start_time": "2024-10-19T01:12:44.115Z"
   },
   {
    "duration": 561,
    "start_time": "2024-10-19T01:27:57.383Z"
   },
   {
    "duration": 134,
    "start_time": "2024-10-19T01:28:14.302Z"
   },
   {
    "duration": 13,
    "start_time": "2024-10-19T01:28:28.162Z"
   },
   {
    "duration": 4,
    "start_time": "2024-10-19T01:32:28.035Z"
   },
   {
    "duration": 10,
    "start_time": "2024-10-19T01:32:31.886Z"
   },
   {
    "duration": 569,
    "start_time": "2024-10-19T01:32:36.865Z"
   },
   {
    "duration": 134,
    "start_time": "2024-10-19T01:32:44.106Z"
   },
   {
    "duration": 12,
    "start_time": "2024-10-19T01:32:47.376Z"
   },
   {
    "duration": 2169,
    "start_time": "2024-10-21T15:49:08.849Z"
   },
   {
    "duration": 1011,
    "start_time": "2024-10-21T15:49:13.369Z"
   },
   {
    "duration": 61,
    "start_time": "2024-10-21T15:49:17.576Z"
   },
   {
    "duration": 21,
    "start_time": "2024-10-21T15:49:28.006Z"
   },
   {
    "duration": 9,
    "start_time": "2024-10-21T15:49:34.379Z"
   },
   {
    "duration": 8,
    "start_time": "2024-10-21T15:49:38.375Z"
   },
   {
    "duration": 257,
    "start_time": "2024-10-21T15:50:08.876Z"
   },
   {
    "duration": 260,
    "start_time": "2024-10-21T15:57:25.769Z"
   },
   {
    "duration": 6,
    "start_time": "2024-10-21T15:58:03.938Z"
   },
   {
    "duration": 484,
    "start_time": "2024-10-21T15:58:09.256Z"
   },
   {
    "duration": 265,
    "start_time": "2024-10-21T15:58:49.665Z"
   },
   {
    "duration": 730,
    "start_time": "2024-10-21T15:58:56.915Z"
   },
   {
    "duration": 13,
    "start_time": "2024-10-21T15:59:34.042Z"
   },
   {
    "duration": 10,
    "start_time": "2024-10-21T15:59:56.212Z"
   },
   {
    "duration": 30,
    "start_time": "2024-10-21T16:00:27.141Z"
   },
   {
    "duration": 72,
    "start_time": "2024-10-21T16:01:22.326Z"
   },
   {
    "duration": 154,
    "start_time": "2024-10-21T16:01:33.063Z"
   },
   {
    "duration": 459,
    "start_time": "2024-10-21T17:56:21.708Z"
   },
   {
    "duration": 439,
    "start_time": "2024-10-21T18:53:08.863Z"
   },
   {
    "duration": 451,
    "start_time": "2024-10-21T19:07:49.109Z"
   },
   {
    "duration": 451,
    "start_time": "2024-10-21T19:17:16.000Z"
   },
   {
    "duration": 448,
    "start_time": "2024-10-21T19:17:46.934Z"
   }
  ],
  "colab": {
   "provenance": []
  },
  "kernelspec": {
   "display_name": "Python 3 (ipykernel)",
   "language": "python",
   "name": "python3"
  },
  "language_info": {
   "codemirror_mode": {
    "name": "ipython",
    "version": 3
   },
   "file_extension": ".py",
   "mimetype": "text/x-python",
   "name": "python",
   "nbconvert_exporter": "python",
   "pygments_lexer": "ipython3",
   "version": "3.9.19"
  },
  "toc": {
   "base_numbering": 1,
   "nav_menu": {},
   "number_sections": true,
   "sideBar": true,
   "skip_h1_title": true,
   "title_cell": "Table of Contents",
   "title_sidebar": "Contents",
   "toc_cell": false,
   "toc_position": {},
   "toc_section_display": true,
   "toc_window_display": false
  },
  "vscode": {
   "interpreter": {
    "hash": "01a7be9ec63e704a62cefc5fe7a4756944464ee731be31632bdf42a4cb4688cf"
   }
  }
 },
 "nbformat": 4,
 "nbformat_minor": 5
}
